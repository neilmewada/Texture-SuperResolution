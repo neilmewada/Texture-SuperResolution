{
 "cells": [
  {
   "cell_type": "code",
   "execution_count": 1,
   "id": "f8a1209b-0c2b-42a6-95e5-4a986a37a4b4",
   "metadata": {},
   "outputs": [],
   "source": [
    "import os\n",
    "import time\n",
    "import math\n",
    "import copy\n",
    "import numpy as np\n",
    "from tqdm import tqdm\n",
    "from PIL import Image\n",
    "from sklearn.model_selection import train_test_split\n",
    "import torch\n",
    "import torch.nn as nn\n",
    "import torch.optim as optim\n",
    "from torch.utils.data import Dataset\n",
    "import torchvision.transforms as transforms\n",
    "\n",
    "import random\n",
    "from typing import List, Tuple\n",
    "from PIL import Image, ImageDraw\n",
    "import matplotlib.pyplot as plt"
   ]
  },
  {
   "cell_type": "code",
   "execution_count": 2,
   "id": "04051e60-8c70-4318-b83b-8fecf80b5afe",
   "metadata": {},
   "outputs": [
    {
     "data": {
      "text/plain": [
       "'C:\\\\Projects\\\\Texture-SuperResolution/ambient-cg-images'"
      ]
     },
     "execution_count": 2,
     "metadata": {},
     "output_type": "execute_result"
    }
   ],
   "source": [
    "# Path to your DTD dataset (downloaded and extracted)\n",
    "\n",
    "DATASET_PATH = f\"{os.getcwd()}/ambient-cg-images\"\n",
    "DATASET_PATH"
   ]
  },
  {
   "cell_type": "code",
   "execution_count": 3,
   "id": "8b7cbf2e-ef82-42c4-9d24-bb7c451937d7",
   "metadata": {},
   "outputs": [
    {
     "name": "stderr",
     "output_type": "stream",
     "text": [
      "C:\\Users\\neelr\\AppData\\Roaming\\Python\\Python313\\site-packages\\PIL\\Image.py:3442: DecompressionBombWarning: Image size (150994944 pixels) exceeds limit of 89478485 pixels, could be decompression bomb DOS attack.\n",
      "  warnings.warn(\n"
     ]
    }
   ],
   "source": [
    "# -----------------------------\n",
    "# 🔹 Preprocessing Function\n",
    "# -----------------------------\n",
    "IMAGE_LIMIT = 100\n",
    "\n",
    "def load_dtd_dataset(root_dir, scale_factor=2, patch_size=64, test_size=0.2):\n",
    "    \"\"\"\n",
    "    Loads DTD dataset and creates LR-HR pairs as numpy arrays.\n",
    "    \"\"\"\n",
    "    image_files = []\n",
    "    counter = 0\n",
    "    for root, _, files in os.walk(root_dir):\n",
    "        if counter > IMAGE_LIMIT:\n",
    "            break\n",
    "        for f in files:\n",
    "            if counter > IMAGE_LIMIT:\n",
    "                break\n",
    "            if f.lower().endswith(('.png', '.jpg', '.jpeg')):\n",
    "                image_files.append(os.path.join(root, f))\n",
    "                counter += 1\n",
    "                \n",
    "    to_tensor = transforms.ToTensor()\n",
    "    X, Y = [], []\n",
    "\n",
    "    for img_path in image_files:\n",
    "        hr_img = Image.open(img_path).convert(\"RGB\")\n",
    "        width, height = hr_img.size\n",
    "\n",
    "        # Ensure patch fits\n",
    "        if width < patch_size or height < patch_size:\n",
    "            hr_img = hr_img.resize((patch_size, patch_size), Image.BICUBIC)\n",
    "        else:\n",
    "            # Random crop\n",
    "            left = np.random.randint(0, width - patch_size + 1)\n",
    "            top = np.random.randint(0, height - patch_size + 1)\n",
    "            hr_img = hr_img.crop((left, top, left + patch_size, top + patch_size))\n",
    "\n",
    "        # Create low-res version\n",
    "        lr_size = (patch_size // scale_factor, patch_size // scale_factor)\n",
    "        lr_img = hr_img.resize(lr_size, Image.BICUBIC)\n",
    "        lr_img = lr_img.resize((patch_size, patch_size), Image.BICUBIC)\n",
    "\n",
    "        # Convert to tensors (C,H,W) and append\n",
    "        X.append(to_tensor(lr_img).numpy())\n",
    "        Y.append(to_tensor(hr_img).numpy())\n",
    "\n",
    "    X = np.array(X, dtype=np.float32)\n",
    "    Y = np.array(Y, dtype=np.float32)\n",
    "\n",
    "    # Train/val split\n",
    "    X_train, X_val, Y_train, Y_val = train_test_split(X, Y, test_size=test_size, random_state=42)\n",
    "\n",
    "    return X_train, X_val, Y_train, Y_val\n",
    "\n",
    "X_train, X_val, Y_train, Y_val = load_dtd_dataset(DATASET_PATH, scale_factor=3, patch_size=64)"
   ]
  },
  {
   "cell_type": "code",
   "execution_count": 4,
   "id": "700cc8f5-a170-4f30-9f68-34308cbf65a0",
   "metadata": {},
   "outputs": [],
   "source": [
    "class TextureDataset(Dataset):\n",
    "    def __init__(self, X, Y):\n",
    "        self.X = torch.from_numpy(X)  # convert to torch.Tensor\n",
    "        self.Y = torch.from_numpy(Y)\n",
    "\n",
    "    def __len__(self):\n",
    "        return len(self.X)\n",
    "\n",
    "    def __getitem__(self, i):\n",
    "        return self.X[i], self.Y[i]"
   ]
  },
  {
   "cell_type": "code",
   "execution_count": 5,
   "id": "a1103d00-2679-4b76-8419-12b83ae2c9a5",
   "metadata": {},
   "outputs": [
    {
     "name": "stdout",
     "output_type": "stream",
     "text": [
      "Train samples: 80\n",
      "Val samples: 21\n",
      "LR shape: torch.Size([3, 64, 64]) HR shape: torch.Size([3, 64, 64])\n"
     ]
    }
   ],
   "source": [
    "train_dataset = TextureDataset(X_train, Y_train)\n",
    "val_dataset = TextureDataset(X_val, Y_val)\n",
    "\n",
    "print(\"Train samples:\", len(train_dataset))\n",
    "print(\"Val samples:\", len(val_dataset))\n",
    "\n",
    "# Test one sample\n",
    "lr, hr = train_dataset[56]\n",
    "print(\"LR shape:\", lr.shape, \"HR shape:\", hr.shape)"
   ]
  },
  {
   "cell_type": "code",
   "execution_count": 6,
   "id": "8d0f5496-4c83-4e24-b0cf-24da4433c070",
   "metadata": {},
   "outputs": [
    {
     "data": {
      "image/png": "[encoded data removed]",
      "text/plain": [
       "<Figure size 800x400 with 2 Axes>"
      ]
     },
     "metadata": {},
     "output_type": "display_data"
    }
   ],
   "source": [
    "fig, axes = plt.subplots(1, 2, figsize=(8, 4))\n",
    "axes[0].imshow(np.transpose(lr.numpy(), (1, 2, 0)))\n",
    "axes[0].set_title(\"LR (bicubic upsampled)\")\n",
    "axes[0].axis(\"off\")\n",
    "axes[1].imshow(np.transpose(hr.numpy(), (1, 2, 0)))\n",
    "axes[1].set_title(\"HR (ground truth patch)\")\n",
    "axes[1].axis(\"off\")\n",
    "plt.tight_layout()\n",
    "plt.show()"
   ]
  },
  {
   "cell_type": "code",
   "execution_count": 7,
   "id": "ffa60c7a-fdc8-4e46-8d81-7aa8ff47b249",
   "metadata": {},
   "outputs": [],
   "source": [
    "BATCH_SIZE   = 16\n",
    "NUM_EPOCHS   = 400\n",
    "LR           = 1e-4\n",
    "STEP_EVERY   = 15\n",
    "GAMMA        = 0.5\n",
    "NUM_WORKERS  = 0\n",
    "PIN_MEMORY   = False"
   ]
  },
  {
   "cell_type": "code",
   "execution_count": 8,
   "id": "bae8d6f9-a9a6-403f-96aa-dfeefa21e3d4",
   "metadata": {},
   "outputs": [],
   "source": [
    "from torch.utils.data import DataLoader\n",
    "\n",
    "train_loader = DataLoader(train_dataset, batch_size=BATCH_SIZE, shuffle=True, num_workers=NUM_WORKERS, pin_memory=PIN_MEMORY)\n",
    "val_loader = DataLoader(val_dataset, batch_size=BATCH_SIZE, shuffle=False, num_workers=NUM_WORKERS, pin_memory=PIN_MEMORY)"
   ]
  },
  {
   "cell_type": "code",
   "execution_count": 9,
   "id": "44f4cbf0-228c-4089-b9f0-6fc7f4d3f181",
   "metadata": {},
   "outputs": [],
   "source": [
    "from model import SRCNN"
   ]
  },
  {
   "cell_type": "code",
   "execution_count": 10,
   "id": "e6d3a49c-bcaf-4276-9f00-2d281f6ca808",
   "metadata": {},
   "outputs": [
    {
     "name": "stderr",
     "output_type": "stream",
     "text": [
      "epoch: 0/399:   0%|                                                                             | 0/80 [00:00<?, ?it/s]C:\\Users\\neelr\\AppData\\Local\\Temp\\ipykernel_34688\\1108744689.py:98: UserWarning: Converting a tensor with requires_grad=True to a scalar may lead to unexpected behavior.\n",
      "Consider using tensor.detach() first. (Triggered internally at C:\\actions-runner\\_work\\pytorch\\pytorch\\pytorch\\aten\\src\\ATen\\native\\Scalar.cpp:23.)\n",
      "  epoch_losses.update(loss.item(), len(inputs))\n",
      "epoch: 0/399: 100%|████████████████████████████████████████████████████| 80/80 [00:00<00:00, 404.47it/s, loss=0.207782]\n"
     ]
    },
    {
     "name": "stdout",
     "output_type": "stream",
     "text": [
      "eval psnr: 7.13\n"
     ]
    },
    {
     "name": "stderr",
     "output_type": "stream",
     "text": [
      "epoch: 1/399: 100%|███████████████████████████████████████████████████| 80/80 [00:00<00:00, 5472.91it/s, loss=0.153755]\n"
     ]
    },
    {
     "name": "stdout",
     "output_type": "stream",
     "text": [
      "eval psnr: 9.02\n"
     ]
    },
    {
     "name": "stderr",
     "output_type": "stream",
     "text": [
      "epoch: 2/399: 100%|███████████████████████████████████████████████████| 80/80 [00:00<00:00, 5206.92it/s, loss=0.082411]\n"
     ]
    },
    {
     "name": "stdout",
     "output_type": "stream",
     "text": [
      "eval psnr: 13.46\n"
     ]
    },
    {
     "name": "stderr",
     "output_type": "stream",
     "text": [
      "epoch: 3/399: 100%|███████████████████████████████████████████████████| 80/80 [00:00<00:00, 5438.67it/s, loss=0.026028]\n"
     ]
    },
    {
     "name": "stdout",
     "output_type": "stream",
     "text": [
      "eval psnr: 15.82\n"
     ]
    },
    {
     "name": "stderr",
     "output_type": "stream",
     "text": [
      "epoch: 4/399: 100%|███████████████████████████████████████████████████| 80/80 [00:00<00:00, 5493.79it/s, loss=0.028825]\n"
     ]
    },
    {
     "name": "stdout",
     "output_type": "stream",
     "text": [
      "eval psnr: 15.12\n"
     ]
    },
    {
     "name": "stderr",
     "output_type": "stream",
     "text": [
      "epoch: 5/399: 100%|███████████████████████████████████████████████████| 80/80 [00:00<00:00, 5463.11it/s, loss=0.020648]\n"
     ]
    },
    {
     "name": "stdout",
     "output_type": "stream",
     "text": [
      "eval psnr: 17.66\n"
     ]
    },
    {
     "name": "stderr",
     "output_type": "stream",
     "text": [
      "epoch: 6/399: 100%|███████████████████████████████████████████████████| 80/80 [00:00<00:00, 4758.48it/s, loss=0.015401]\n"
     ]
    },
    {
     "name": "stdout",
     "output_type": "stream",
     "text": [
      "eval psnr: 17.31\n"
     ]
    },
    {
     "name": "stderr",
     "output_type": "stream",
     "text": [
      "epoch: 7/399: 100%|███████████████████████████████████████████████████| 80/80 [00:00<00:00, 4578.62it/s, loss=0.015146]\n"
     ]
    },
    {
     "name": "stdout",
     "output_type": "stream",
     "text": [
      "eval psnr: 18.46\n"
     ]
    },
    {
     "name": "stderr",
     "output_type": "stream",
     "text": [
      "epoch: 8/399: 100%|███████████████████████████████████████████████████| 80/80 [00:00<00:00, 5205.30it/s, loss=0.012602]\n"
     ]
    },
    {
     "name": "stdout",
     "output_type": "stream",
     "text": [
      "eval psnr: 18.50\n"
     ]
    },
    {
     "name": "stderr",
     "output_type": "stream",
     "text": [
      "epoch: 9/399: 100%|███████████████████████████████████████████████████| 80/80 [00:00<00:00, 5284.50it/s, loss=0.011436]\n"
     ]
    },
    {
     "name": "stdout",
     "output_type": "stream",
     "text": [
      "eval psnr: 19.11\n"
     ]
    },
    {
     "name": "stderr",
     "output_type": "stream",
     "text": [
      "epoch: 10/399: 100%|██████████████████████████████████████████████████| 80/80 [00:00<00:00, 5332.36it/s, loss=0.010280]"
     ]
    },
    {
     "name": "stdout",
     "output_type": "stream",
     "text": [
      "eval psnr: 19.68\n"
     ]
    },
    {
     "name": "stderr",
     "output_type": "stream",
     "text": [
      "\n",
      "epoch: 11/399: 100%|██████████████████████████████████████████████████| 80/80 [00:00<00:00, 5483.29it/s, loss=0.009072]\n"
     ]
    },
    {
     "name": "stdout",
     "output_type": "stream",
     "text": [
      "eval psnr: 20.10\n"
     ]
    },
    {
     "name": "stderr",
     "output_type": "stream",
     "text": [
      "epoch: 12/399: 100%|██████████████████████████████████████████████████| 80/80 [00:00<00:00, 5617.03it/s, loss=0.008237]\n"
     ]
    },
    {
     "name": "stdout",
     "output_type": "stream",
     "text": [
      "eval psnr: 20.52\n"
     ]
    },
    {
     "name": "stderr",
     "output_type": "stream",
     "text": [
      "epoch: 13/399: 100%|██████████████████████████████████████████████████| 80/80 [00:00<00:00, 5611.39it/s, loss=0.007458]\n"
     ]
    },
    {
     "name": "stdout",
     "output_type": "stream",
     "text": [
      "eval psnr: 21.01\n"
     ]
    },
    {
     "name": "stderr",
     "output_type": "stream",
     "text": [
      "epoch: 14/399: 100%|██████████████████████████████████████████████████| 80/80 [00:00<00:00, 5336.09it/s, loss=0.006622]\n"
     ]
    },
    {
     "name": "stdout",
     "output_type": "stream",
     "text": [
      "eval psnr: 21.51\n"
     ]
    },
    {
     "name": "stderr",
     "output_type": "stream",
     "text": [
      "epoch: 15/399: 100%|██████████████████████████████████████████████████| 80/80 [00:00<00:00, 5331.60it/s, loss=0.005997]\n"
     ]
    },
    {
     "name": "stdout",
     "output_type": "stream",
     "text": [
      "eval psnr: 21.92\n"
     ]
    },
    {
     "name": "stderr",
     "output_type": "stream",
     "text": [
      "epoch: 16/399: 100%|██████████████████████████████████████████████████| 80/80 [00:00<00:00, 5418.21it/s, loss=0.005448]\n"
     ]
    },
    {
     "name": "stdout",
     "output_type": "stream",
     "text": [
      "eval psnr: 22.32\n"
     ]
    },
    {
     "name": "stderr",
     "output_type": "stream",
     "text": [
      "epoch: 17/399: 100%|██████████████████████████████████████████████████| 80/80 [00:00<00:00, 5215.34it/s, loss=0.005044]\n"
     ]
    },
    {
     "name": "stdout",
     "output_type": "stream",
     "text": [
      "eval psnr: 22.70\n"
     ]
    },
    {
     "name": "stderr",
     "output_type": "stream",
     "text": [
      "epoch: 18/399: 100%|██████████████████████████████████████████████████| 80/80 [00:00<00:00, 5413.49it/s, loss=0.004677]\n"
     ]
    },
    {
     "name": "stdout",
     "output_type": "stream",
     "text": [
      "eval psnr: 23.03\n"
     ]
    },
    {
     "name": "stderr",
     "output_type": "stream",
     "text": [
      "epoch: 19/399: 100%|██████████████████████████████████████████████████| 80/80 [00:00<00:00, 5272.04it/s, loss=0.004378]\n"
     ]
    },
    {
     "name": "stdout",
     "output_type": "stream",
     "text": [
      "eval psnr: 23.30\n"
     ]
    },
    {
     "name": "stderr",
     "output_type": "stream",
     "text": [
      "epoch: 20/399: 100%|██████████████████████████████████████████████████| 80/80 [00:00<00:00, 5315.22it/s, loss=0.004125]\n"
     ]
    },
    {
     "name": "stdout",
     "output_type": "stream",
     "text": [
      "eval psnr: 23.56\n"
     ]
    },
    {
     "name": "stderr",
     "output_type": "stream",
     "text": [
      "epoch: 21/399: 100%|██████████████████████████████████████████████████| 80/80 [00:00<00:00, 5711.10it/s, loss=0.003904]\n"
     ]
    },
    {
     "name": "stdout",
     "output_type": "stream",
     "text": [
      "eval psnr: 23.83\n"
     ]
    },
    {
     "name": "stderr",
     "output_type": "stream",
     "text": [
      "epoch: 22/399: 100%|██████████████████████████████████████████████████| 80/80 [00:00<00:00, 5242.96it/s, loss=0.003718]\n"
     ]
    },
    {
     "name": "stdout",
     "output_type": "stream",
     "text": [
      "eval psnr: 24.05\n"
     ]
    },
    {
     "name": "stderr",
     "output_type": "stream",
     "text": [
      "epoch: 23/399: 100%|██████████████████████████████████████████████████| 80/80 [00:00<00:00, 5058.86it/s, loss=0.003558]\n"
     ]
    },
    {
     "name": "stdout",
     "output_type": "stream",
     "text": [
      "eval psnr: 24.30\n"
     ]
    },
    {
     "name": "stderr",
     "output_type": "stream",
     "text": [
      "epoch: 24/399: 100%|██████████████████████████████████████████████████| 80/80 [00:00<00:00, 5235.35it/s, loss=0.003398]\n"
     ]
    },
    {
     "name": "stdout",
     "output_type": "stream",
     "text": [
      "eval psnr: 24.49\n"
     ]
    },
    {
     "name": "stderr",
     "output_type": "stream",
     "text": [
      "epoch: 25/399: 100%|██████████████████████████████████████████████████| 80/80 [00:00<00:00, 5097.21it/s, loss=0.003290]\n"
     ]
    },
    {
     "name": "stdout",
     "output_type": "stream",
     "text": [
      "eval psnr: 24.71\n"
     ]
    },
    {
     "name": "stderr",
     "output_type": "stream",
     "text": [
      "epoch: 26/399: 100%|██████████████████████████████████████████████████| 80/80 [00:00<00:00, 5428.55it/s, loss=0.003148]\n"
     ]
    },
    {
     "name": "stdout",
     "output_type": "stream",
     "text": [
      "eval psnr: 24.89\n"
     ]
    },
    {
     "name": "stderr",
     "output_type": "stream",
     "text": [
      "epoch: 27/399: 100%|██████████████████████████████████████████████████| 80/80 [00:00<00:00, 5771.22it/s, loss=0.003064]\n"
     ]
    },
    {
     "name": "stdout",
     "output_type": "stream",
     "text": [
      "eval psnr: 25.05\n"
     ]
    },
    {
     "name": "stderr",
     "output_type": "stream",
     "text": [
      "epoch: 28/399: 100%|██████████████████████████████████████████████████| 80/80 [00:00<00:00, 5457.07it/s, loss=0.002963]\n"
     ]
    },
    {
     "name": "stdout",
     "output_type": "stream",
     "text": [
      "eval psnr: 25.23\n"
     ]
    },
    {
     "name": "stderr",
     "output_type": "stream",
     "text": [
      "epoch: 29/399: 100%|██████████████████████████████████████████████████| 80/80 [00:00<00:00, 5650.99it/s, loss=0.002887]\n"
     ]
    },
    {
     "name": "stdout",
     "output_type": "stream",
     "text": [
      "eval psnr: 25.38\n"
     ]
    },
    {
     "name": "stderr",
     "output_type": "stream",
     "text": [
      "epoch: 30/399: 100%|██████████████████████████████████████████████████| 80/80 [00:00<00:00, 5394.52it/s, loss=0.002783]\n"
     ]
    },
    {
     "name": "stdout",
     "output_type": "stream",
     "text": [
      "eval psnr: 25.60\n"
     ]
    },
    {
     "name": "stderr",
     "output_type": "stream",
     "text": [
      "epoch: 31/399: 100%|██████████████████████████████████████████████████| 80/80 [00:00<00:00, 5034.27it/s, loss=0.002692]\n"
     ]
    },
    {
     "name": "stdout",
     "output_type": "stream",
     "text": [
      "eval psnr: 25.77\n"
     ]
    },
    {
     "name": "stderr",
     "output_type": "stream",
     "text": [
      "epoch: 32/399: 100%|██████████████████████████████████████████████████| 80/80 [00:00<00:00, 5449.80it/s, loss=0.002622]\n"
     ]
    },
    {
     "name": "stdout",
     "output_type": "stream",
     "text": [
      "eval psnr: 25.96\n"
     ]
    },
    {
     "name": "stderr",
     "output_type": "stream",
     "text": [
      "epoch: 33/399: 100%|██████████████████████████████████████████████████| 80/80 [00:00<00:00, 5413.58it/s, loss=0.002539]\n"
     ]
    },
    {
     "name": "stdout",
     "output_type": "stream",
     "text": [
      "eval psnr: 26.08\n"
     ]
    },
    {
     "name": "stderr",
     "output_type": "stream",
     "text": [
      "epoch: 34/399: 100%|██████████████████████████████████████████████████| 80/80 [00:00<00:00, 5742.87it/s, loss=0.002489]\n"
     ]
    },
    {
     "name": "stdout",
     "output_type": "stream",
     "text": [
      "eval psnr: 26.23\n"
     ]
    },
    {
     "name": "stderr",
     "output_type": "stream",
     "text": [
      "epoch: 35/399: 100%|██████████████████████████████████████████████████| 80/80 [00:00<00:00, 5766.85it/s, loss=0.002426]\n"
     ]
    },
    {
     "name": "stdout",
     "output_type": "stream",
     "text": [
      "eval psnr: 26.36\n"
     ]
    },
    {
     "name": "stderr",
     "output_type": "stream",
     "text": [
      "epoch: 36/399: 100%|██████████████████████████████████████████████████| 80/80 [00:00<00:00, 5601.55it/s, loss=0.002365]\n"
     ]
    },
    {
     "name": "stdout",
     "output_type": "stream",
     "text": [
      "eval psnr: 26.46\n"
     ]
    },
    {
     "name": "stderr",
     "output_type": "stream",
     "text": [
      "epoch: 37/399: 100%|██████████████████████████████████████████████████| 80/80 [00:00<00:00, 5175.44it/s, loss=0.002307]\n"
     ]
    },
    {
     "name": "stdout",
     "output_type": "stream",
     "text": [
      "eval psnr: 26.55\n"
     ]
    },
    {
     "name": "stderr",
     "output_type": "stream",
     "text": [
      "epoch: 38/399: 100%|██████████████████████████████████████████████████| 80/80 [00:00<00:00, 5719.77it/s, loss=0.002275]\n"
     ]
    },
    {
     "name": "stdout",
     "output_type": "stream",
     "text": [
      "eval psnr: 26.65\n"
     ]
    },
    {
     "name": "stderr",
     "output_type": "stream",
     "text": [
      "epoch: 39/399: 100%|██████████████████████████████████████████████████| 80/80 [00:00<00:00, 4573.63it/s, loss=0.002242]\n"
     ]
    },
    {
     "name": "stdout",
     "output_type": "stream",
     "text": [
      "eval psnr: 26.75\n"
     ]
    },
    {
     "name": "stderr",
     "output_type": "stream",
     "text": [
      "epoch: 40/399: 100%|██████████████████████████████████████████████████| 80/80 [00:00<00:00, 5585.98it/s, loss=0.002192]\n"
     ]
    },
    {
     "name": "stdout",
     "output_type": "stream",
     "text": [
      "eval psnr: 26.80\n"
     ]
    },
    {
     "name": "stderr",
     "output_type": "stream",
     "text": [
      "epoch: 41/399: 100%|██████████████████████████████████████████████████| 80/80 [00:00<00:00, 5672.48it/s, loss=0.002152]\n"
     ]
    },
    {
     "name": "stdout",
     "output_type": "stream",
     "text": [
      "eval psnr: 26.89\n"
     ]
    },
    {
     "name": "stderr",
     "output_type": "stream",
     "text": [
      "epoch: 42/399: 100%|██████████████████████████████████████████████████| 80/80 [00:00<00:00, 5595.86it/s, loss=0.002112]\n"
     ]
    },
    {
     "name": "stdout",
     "output_type": "stream",
     "text": [
      "eval psnr: 26.96\n"
     ]
    },
    {
     "name": "stderr",
     "output_type": "stream",
     "text": [
      "epoch: 43/399: 100%|██████████████████████████████████████████████████| 80/80 [00:00<00:00, 5571.14it/s, loss=0.002086]\n"
     ]
    },
    {
     "name": "stdout",
     "output_type": "stream",
     "text": [
      "eval psnr: 27.03\n"
     ]
    },
    {
     "name": "stderr",
     "output_type": "stream",
     "text": [
      "epoch: 44/399: 100%|██████████████████████████████████████████████████| 80/80 [00:00<00:00, 5363.39it/s, loss=0.002055]\n"
     ]
    },
    {
     "name": "stdout",
     "output_type": "stream",
     "text": [
      "eval psnr: 27.10\n"
     ]
    },
    {
     "name": "stderr",
     "output_type": "stream",
     "text": [
      "epoch: 45/399: 100%|██████████████████████████████████████████████████| 80/80 [00:00<00:00, 5483.29it/s, loss=0.002026]\n"
     ]
    },
    {
     "name": "stdout",
     "output_type": "stream",
     "text": [
      "eval psnr: 27.15\n"
     ]
    },
    {
     "name": "stderr",
     "output_type": "stream",
     "text": [
      "epoch: 46/399: 100%|██████████████████████████████████████████████████| 80/80 [00:00<00:00, 5332.53it/s, loss=0.002000]\n"
     ]
    },
    {
     "name": "stdout",
     "output_type": "stream",
     "text": [
      "eval psnr: 27.20\n"
     ]
    },
    {
     "name": "stderr",
     "output_type": "stream",
     "text": [
      "epoch: 47/399: 100%|██████████████████████████████████████████████████| 80/80 [00:00<00:00, 5381.88it/s, loss=0.001975]\n"
     ]
    },
    {
     "name": "stdout",
     "output_type": "stream",
     "text": [
      "eval psnr: 27.25\n"
     ]
    },
    {
     "name": "stderr",
     "output_type": "stream",
     "text": [
      "epoch: 48/399: 100%|██████████████████████████████████████████████████| 80/80 [00:00<00:00, 5355.68it/s, loss=0.001956]\n"
     ]
    },
    {
     "name": "stdout",
     "output_type": "stream",
     "text": [
      "eval psnr: 27.31\n"
     ]
    },
    {
     "name": "stderr",
     "output_type": "stream",
     "text": [
      "epoch: 49/399: 100%|██████████████████████████████████████████████████| 80/80 [00:00<00:00, 4995.00it/s, loss=0.001931]\n"
     ]
    },
    {
     "name": "stdout",
     "output_type": "stream",
     "text": [
      "eval psnr: 27.35\n"
     ]
    },
    {
     "name": "stderr",
     "output_type": "stream",
     "text": [
      "epoch: 50/399: 100%|██████████████████████████████████████████████████| 80/80 [00:00<00:00, 5653.56it/s, loss=0.001916]\n"
     ]
    },
    {
     "name": "stdout",
     "output_type": "stream",
     "text": [
      "eval psnr: 27.41\n"
     ]
    },
    {
     "name": "stderr",
     "output_type": "stream",
     "text": [
      "epoch: 51/399: 100%|██████████████████████████████████████████████████| 80/80 [00:00<00:00, 5378.17it/s, loss=0.001896]\n"
     ]
    },
    {
     "name": "stdout",
     "output_type": "stream",
     "text": [
      "eval psnr: 27.44\n"
     ]
    },
    {
     "name": "stderr",
     "output_type": "stream",
     "text": [
      "epoch: 52/399: 100%|██████████████████████████████████████████████████| 80/80 [00:00<00:00, 5644.24it/s, loss=0.001875]\n"
     ]
    },
    {
     "name": "stdout",
     "output_type": "stream",
     "text": [
      "eval psnr: 27.48\n"
     ]
    },
    {
     "name": "stderr",
     "output_type": "stream",
     "text": [
      "epoch: 53/399: 100%|██████████████████████████████████████████████████| 80/80 [00:00<00:00, 5815.43it/s, loss=0.001856]\n"
     ]
    },
    {
     "name": "stdout",
     "output_type": "stream",
     "text": [
      "eval psnr: 27.52\n"
     ]
    },
    {
     "name": "stderr",
     "output_type": "stream",
     "text": [
      "epoch: 54/399: 100%|██████████████████████████████████████████████████| 80/80 [00:00<00:00, 5447.50it/s, loss=0.001837]\n"
     ]
    },
    {
     "name": "stdout",
     "output_type": "stream",
     "text": [
      "eval psnr: 27.56\n"
     ]
    },
    {
     "name": "stderr",
     "output_type": "stream",
     "text": [
      "epoch: 55/399: 100%|██████████████████████████████████████████████████| 80/80 [00:00<00:00, 5396.25it/s, loss=0.001821]\n"
     ]
    },
    {
     "name": "stdout",
     "output_type": "stream",
     "text": [
      "eval psnr: 27.61\n"
     ]
    },
    {
     "name": "stderr",
     "output_type": "stream",
     "text": [
      "epoch: 56/399: 100%|██████████████████████████████████████████████████| 80/80 [00:00<00:00, 5682.47it/s, loss=0.001804]\n"
     ]
    },
    {
     "name": "stdout",
     "output_type": "stream",
     "text": [
      "eval psnr: 27.64\n"
     ]
    },
    {
     "name": "stderr",
     "output_type": "stream",
     "text": [
      "epoch: 57/399: 100%|██████████████████████████████████████████████████| 80/80 [00:00<00:00, 5239.85it/s, loss=0.001791]\n"
     ]
    },
    {
     "name": "stdout",
     "output_type": "stream",
     "text": [
      "eval psnr: 27.67\n"
     ]
    },
    {
     "name": "stderr",
     "output_type": "stream",
     "text": [
      "epoch: 58/399: 100%|██████████████████████████████████████████████████| 80/80 [00:00<00:00, 5453.61it/s, loss=0.001779]\n"
     ]
    },
    {
     "name": "stdout",
     "output_type": "stream",
     "text": [
      "eval psnr: 27.69\n"
     ]
    },
    {
     "name": "stderr",
     "output_type": "stream",
     "text": [
      "epoch: 59/399: 100%|██████████████████████████████████████████████████| 80/80 [00:00<00:00, 5611.20it/s, loss=0.001767]\n"
     ]
    },
    {
     "name": "stdout",
     "output_type": "stream",
     "text": [
      "eval psnr: 27.71\n"
     ]
    },
    {
     "name": "stderr",
     "output_type": "stream",
     "text": [
      "epoch: 60/399: 100%|██████████████████████████████████████████████████| 80/80 [00:00<00:00, 5434.88it/s, loss=0.001754]\n"
     ]
    },
    {
     "name": "stdout",
     "output_type": "stream",
     "text": [
      "eval psnr: 27.75\n"
     ]
    },
    {
     "name": "stderr",
     "output_type": "stream",
     "text": [
      "epoch: 61/399: 100%|██████████████████████████████████████████████████| 80/80 [00:00<00:00, 5735.11it/s, loss=0.001743]\n"
     ]
    },
    {
     "name": "stdout",
     "output_type": "stream",
     "text": [
      "eval psnr: 27.79\n"
     ]
    },
    {
     "name": "stderr",
     "output_type": "stream",
     "text": [
      "epoch: 62/399: 100%|██████████████████████████████████████████████████| 80/80 [00:00<00:00, 5523.00it/s, loss=0.001731]\n"
     ]
    },
    {
     "name": "stdout",
     "output_type": "stream",
     "text": [
      "eval psnr: 27.81\n"
     ]
    },
    {
     "name": "stderr",
     "output_type": "stream",
     "text": [
      "epoch: 63/399: 100%|██████████████████████████████████████████████████| 80/80 [00:00<00:00, 5314.96it/s, loss=0.001722]\n"
     ]
    },
    {
     "name": "stdout",
     "output_type": "stream",
     "text": [
      "eval psnr: 27.85\n"
     ]
    },
    {
     "name": "stderr",
     "output_type": "stream",
     "text": [
      "epoch: 64/399: 100%|██████████████████████████████████████████████████| 80/80 [00:00<00:00, 5487.32it/s, loss=0.001713]\n"
     ]
    },
    {
     "name": "stdout",
     "output_type": "stream",
     "text": [
      "eval psnr: 27.88\n"
     ]
    },
    {
     "name": "stderr",
     "output_type": "stream",
     "text": [
      "epoch: 65/399: 100%|██████████████████████████████████████████████████| 80/80 [00:00<00:00, 5709.25it/s, loss=0.001700]\n"
     ]
    },
    {
     "name": "stdout",
     "output_type": "stream",
     "text": [
      "eval psnr: 27.91\n"
     ]
    },
    {
     "name": "stderr",
     "output_type": "stream",
     "text": [
      "epoch: 66/399: 100%|██████████████████████████████████████████████████| 80/80 [00:00<00:00, 5578.37it/s, loss=0.001688]\n"
     ]
    },
    {
     "name": "stdout",
     "output_type": "stream",
     "text": [
      "eval psnr: 27.93\n"
     ]
    },
    {
     "name": "stderr",
     "output_type": "stream",
     "text": [
      "epoch: 67/399: 100%|██████████████████████████████████████████████████| 80/80 [00:00<00:00, 5693.27it/s, loss=0.001679]\n"
     ]
    },
    {
     "name": "stdout",
     "output_type": "stream",
     "text": [
      "eval psnr: 27.95\n"
     ]
    },
    {
     "name": "stderr",
     "output_type": "stream",
     "text": [
      "epoch: 68/399: 100%|██████████████████████████████████████████████████| 80/80 [00:00<00:00, 5537.67it/s, loss=0.001670]\n"
     ]
    },
    {
     "name": "stdout",
     "output_type": "stream",
     "text": [
      "eval psnr: 27.97\n"
     ]
    },
    {
     "name": "stderr",
     "output_type": "stream",
     "text": [
      "epoch: 69/399: 100%|██████████████████████████████████████████████████| 80/80 [00:00<00:00, 5501.63it/s, loss=0.001662]\n"
     ]
    },
    {
     "name": "stdout",
     "output_type": "stream",
     "text": [
      "eval psnr: 28.00\n"
     ]
    },
    {
     "name": "stderr",
     "output_type": "stream",
     "text": [
      "epoch: 70/399: 100%|██████████████████████████████████████████████████| 80/80 [00:00<00:00, 5284.75it/s, loss=0.001654]\n"
     ]
    },
    {
     "name": "stdout",
     "output_type": "stream",
     "text": [
      "eval psnr: 28.02\n"
     ]
    },
    {
     "name": "stderr",
     "output_type": "stream",
     "text": [
      "epoch: 71/399: 100%|██████████████████████████████████████████████████| 80/80 [00:00<00:00, 5310.84it/s, loss=0.001646]\n"
     ]
    },
    {
     "name": "stdout",
     "output_type": "stream",
     "text": [
      "eval psnr: 28.02\n"
     ]
    },
    {
     "name": "stderr",
     "output_type": "stream",
     "text": [
      "epoch: 72/399: 100%|██████████████████████████████████████████████████| 80/80 [00:00<00:00, 5417.42it/s, loss=0.001640]\n"
     ]
    },
    {
     "name": "stdout",
     "output_type": "stream",
     "text": [
      "eval psnr: 28.05\n"
     ]
    },
    {
     "name": "stderr",
     "output_type": "stream",
     "text": [
      "epoch: 73/399: 100%|██████████████████████████████████████████████████| 80/80 [00:00<00:00, 5288.58it/s, loss=0.001631]\n"
     ]
    },
    {
     "name": "stdout",
     "output_type": "stream",
     "text": [
      "eval psnr: 28.09\n"
     ]
    },
    {
     "name": "stderr",
     "output_type": "stream",
     "text": [
      "epoch: 74/399: 100%|██████████████████████████████████████████████████| 80/80 [00:00<00:00, 5534.20it/s, loss=0.001623]\n"
     ]
    },
    {
     "name": "stdout",
     "output_type": "stream",
     "text": [
      "eval psnr: 28.09\n"
     ]
    },
    {
     "name": "stderr",
     "output_type": "stream",
     "text": [
      "epoch: 75/399: 100%|██████████████████████████████████████████████████| 80/80 [00:00<00:00, 5616.09it/s, loss=0.001616]\n"
     ]
    },
    {
     "name": "stdout",
     "output_type": "stream",
     "text": [
      "eval psnr: 28.12\n"
     ]
    },
    {
     "name": "stderr",
     "output_type": "stream",
     "text": [
      "epoch: 76/399: 100%|██████████████████████████████████████████████████| 80/80 [00:00<00:00, 5667.12it/s, loss=0.001616]\n"
     ]
    },
    {
     "name": "stdout",
     "output_type": "stream",
     "text": [
      "eval psnr: 28.11\n"
     ]
    },
    {
     "name": "stderr",
     "output_type": "stream",
     "text": [
      "epoch: 77/399: 100%|██████████████████████████████████████████████████| 80/80 [00:00<00:00, 5498.38it/s, loss=0.001609]\n"
     ]
    },
    {
     "name": "stdout",
     "output_type": "stream",
     "text": [
      "eval psnr: 28.15\n"
     ]
    },
    {
     "name": "stderr",
     "output_type": "stream",
     "text": [
      "epoch: 78/399: 100%|██████████████████████████████████████████████████| 80/80 [00:00<00:00, 5372.06it/s, loss=0.001599]\n"
     ]
    },
    {
     "name": "stdout",
     "output_type": "stream",
     "text": [
      "eval psnr: 28.17\n"
     ]
    },
    {
     "name": "stderr",
     "output_type": "stream",
     "text": [
      "epoch: 79/399: 100%|██████████████████████████████████████████████████| 80/80 [00:00<00:00, 5559.88it/s, loss=0.001596]\n"
     ]
    },
    {
     "name": "stdout",
     "output_type": "stream",
     "text": [
      "eval psnr: 28.11\n"
     ]
    },
    {
     "name": "stderr",
     "output_type": "stream",
     "text": [
      "epoch: 80/399: 100%|██████████████████████████████████████████████████| 80/80 [00:00<00:00, 5430.13it/s, loss=0.001598]\n"
     ]
    },
    {
     "name": "stdout",
     "output_type": "stream",
     "text": [
      "eval psnr: 28.19\n"
     ]
    },
    {
     "name": "stderr",
     "output_type": "stream",
     "text": [
      "epoch: 81/399: 100%|██████████████████████████████████████████████████| 80/80 [00:00<00:00, 5592.59it/s, loss=0.001583]\n"
     ]
    },
    {
     "name": "stdout",
     "output_type": "stream",
     "text": [
      "eval psnr: 28.21\n"
     ]
    },
    {
     "name": "stderr",
     "output_type": "stream",
     "text": [
      "epoch: 82/399: 100%|██████████████████████████████████████████████████| 80/80 [00:00<00:00, 5590.45it/s, loss=0.001580]\n"
     ]
    },
    {
     "name": "stdout",
     "output_type": "stream",
     "text": [
      "eval psnr: 28.21\n"
     ]
    },
    {
     "name": "stderr",
     "output_type": "stream",
     "text": [
      "epoch: 83/399: 100%|██████████████████████████████████████████████████| 80/80 [00:00<00:00, 5845.41it/s, loss=0.001581]\n"
     ]
    },
    {
     "name": "stdout",
     "output_type": "stream",
     "text": [
      "eval psnr: 28.27\n"
     ]
    },
    {
     "name": "stderr",
     "output_type": "stream",
     "text": [
      "epoch: 84/399: 100%|██████████████████████████████████████████████████| 80/80 [00:00<00:00, 5265.51it/s, loss=0.001576]\n"
     ]
    },
    {
     "name": "stdout",
     "output_type": "stream",
     "text": [
      "eval psnr: 28.28\n"
     ]
    },
    {
     "name": "stderr",
     "output_type": "stream",
     "text": [
      "epoch: 85/399: 100%|██████████████████████████████████████████████████| 80/80 [00:00<00:00, 5397.81it/s, loss=0.001559]\n"
     ]
    },
    {
     "name": "stdout",
     "output_type": "stream",
     "text": [
      "eval psnr: 28.30\n"
     ]
    },
    {
     "name": "stderr",
     "output_type": "stream",
     "text": [
      "epoch: 86/399: 100%|██████████████████████████████████████████████████| 80/80 [00:00<00:00, 5541.15it/s, loss=0.001553]\n"
     ]
    },
    {
     "name": "stdout",
     "output_type": "stream",
     "text": [
      "eval psnr: 28.30\n"
     ]
    },
    {
     "name": "stderr",
     "output_type": "stream",
     "text": [
      "epoch: 87/399: 100%|██████████████████████████████████████████████████| 80/80 [00:00<00:00, 5772.81it/s, loss=0.001548]\n"
     ]
    },
    {
     "name": "stdout",
     "output_type": "stream",
     "text": [
      "eval psnr: 28.32\n"
     ]
    },
    {
     "name": "stderr",
     "output_type": "stream",
     "text": [
      "epoch: 88/399: 100%|██████████████████████████████████████████████████| 80/80 [00:00<00:00, 5582.45it/s, loss=0.001543]\n"
     ]
    },
    {
     "name": "stdout",
     "output_type": "stream",
     "text": [
      "eval psnr: 28.34\n"
     ]
    },
    {
     "name": "stderr",
     "output_type": "stream",
     "text": [
      "epoch: 89/399: 100%|██████████████████████████████████████████████████| 80/80 [00:00<00:00, 5534.48it/s, loss=0.001540]\n"
     ]
    },
    {
     "name": "stdout",
     "output_type": "stream",
     "text": [
      "eval psnr: 28.36\n"
     ]
    },
    {
     "name": "stderr",
     "output_type": "stream",
     "text": [
      "epoch: 90/399: 100%|██████████████████████████████████████████████████| 80/80 [00:00<00:00, 5608.20it/s, loss=0.001535]\n"
     ]
    },
    {
     "name": "stdout",
     "output_type": "stream",
     "text": [
      "eval psnr: 28.38\n"
     ]
    },
    {
     "name": "stderr",
     "output_type": "stream",
     "text": [
      "epoch: 91/399: 100%|██████████████████████████████████████████████████| 80/80 [00:00<00:00, 5788.84it/s, loss=0.001530]\n"
     ]
    },
    {
     "name": "stdout",
     "output_type": "stream",
     "text": [
      "eval psnr: 28.38\n"
     ]
    },
    {
     "name": "stderr",
     "output_type": "stream",
     "text": [
      "epoch: 92/399: 100%|██████████████████████████████████████████████████| 80/80 [00:00<00:00, 4575.94it/s, loss=0.001526]\n"
     ]
    },
    {
     "name": "stdout",
     "output_type": "stream",
     "text": [
      "eval psnr: 28.40\n"
     ]
    },
    {
     "name": "stderr",
     "output_type": "stream",
     "text": [
      "epoch: 93/399: 100%|██████████████████████████████████████████████████| 80/80 [00:00<00:00, 5352.78it/s, loss=0.001519]\n"
     ]
    },
    {
     "name": "stdout",
     "output_type": "stream",
     "text": [
      "eval psnr: 28.42\n"
     ]
    },
    {
     "name": "stderr",
     "output_type": "stream",
     "text": [
      "epoch: 94/399: 100%|██████████████████████████████████████████████████| 80/80 [00:00<00:00, 5722.79it/s, loss=0.001515]\n"
     ]
    },
    {
     "name": "stdout",
     "output_type": "stream",
     "text": [
      "eval psnr: 28.43\n"
     ]
    },
    {
     "name": "stderr",
     "output_type": "stream",
     "text": [
      "epoch: 95/399: 100%|██████████████████████████████████████████████████| 80/80 [00:00<00:00, 5711.49it/s, loss=0.001511]\n"
     ]
    },
    {
     "name": "stdout",
     "output_type": "stream",
     "text": [
      "eval psnr: 28.43\n"
     ]
    },
    {
     "name": "stderr",
     "output_type": "stream",
     "text": [
      "epoch: 96/399: 100%|██████████████████████████████████████████████████| 80/80 [00:00<00:00, 5294.42it/s, loss=0.001507]\n"
     ]
    },
    {
     "name": "stdout",
     "output_type": "stream",
     "text": [
      "eval psnr: 28.46\n"
     ]
    },
    {
     "name": "stderr",
     "output_type": "stream",
     "text": [
      "epoch: 97/399: 100%|██████████████████████████████████████████████████| 80/80 [00:00<00:00, 5680.84it/s, loss=0.001502]\n"
     ]
    },
    {
     "name": "stdout",
     "output_type": "stream",
     "text": [
      "eval psnr: 28.47\n"
     ]
    },
    {
     "name": "stderr",
     "output_type": "stream",
     "text": [
      "epoch: 98/399: 100%|██████████████████████████████████████████████████| 80/80 [00:00<00:00, 5673.06it/s, loss=0.001499]\n"
     ]
    },
    {
     "name": "stdout",
     "output_type": "stream",
     "text": [
      "eval psnr: 28.48\n"
     ]
    },
    {
     "name": "stderr",
     "output_type": "stream",
     "text": [
      "epoch: 99/399: 100%|██████████████████████████████████████████████████| 80/80 [00:00<00:00, 5463.29it/s, loss=0.001496]\n"
     ]
    },
    {
     "name": "stdout",
     "output_type": "stream",
     "text": [
      "eval psnr: 28.50\n"
     ]
    },
    {
     "name": "stderr",
     "output_type": "stream",
     "text": [
      "epoch: 100/399: 100%|█████████████████████████████████████████████████| 80/80 [00:00<00:00, 5501.99it/s, loss=0.001492]\n"
     ]
    },
    {
     "name": "stdout",
     "output_type": "stream",
     "text": [
      "eval psnr: 28.51\n"
     ]
    },
    {
     "name": "stderr",
     "output_type": "stream",
     "text": [
      "epoch: 101/399: 100%|█████████████████████████████████████████████████| 80/80 [00:00<00:00, 5408.25it/s, loss=0.001487]\n"
     ]
    },
    {
     "name": "stdout",
     "output_type": "stream",
     "text": [
      "eval psnr: 28.53\n"
     ]
    },
    {
     "name": "stderr",
     "output_type": "stream",
     "text": [
      "epoch: 102/399: 100%|█████████████████████████████████████████████████| 80/80 [00:00<00:00, 5069.18it/s, loss=0.001483]\n"
     ]
    },
    {
     "name": "stdout",
     "output_type": "stream",
     "text": [
      "eval psnr: 28.54\n"
     ]
    },
    {
     "name": "stderr",
     "output_type": "stream",
     "text": [
      "epoch: 103/399: 100%|█████████████████████████████████████████████████| 80/80 [00:00<00:00, 5860.22it/s, loss=0.001479]\n"
     ]
    },
    {
     "name": "stdout",
     "output_type": "stream",
     "text": [
      "eval psnr: 28.55\n"
     ]
    },
    {
     "name": "stderr",
     "output_type": "stream",
     "text": [
      "epoch: 104/399: 100%|█████████████████████████████████████████████████| 80/80 [00:00<00:00, 5318.59it/s, loss=0.001476]\n"
     ]
    },
    {
     "name": "stdout",
     "output_type": "stream",
     "text": [
      "eval psnr: 28.57\n"
     ]
    },
    {
     "name": "stderr",
     "output_type": "stream",
     "text": [
      "epoch: 105/399: 100%|█████████████████████████████████████████████████| 80/80 [00:00<00:00, 5369.91it/s, loss=0.001472]\n"
     ]
    },
    {
     "name": "stdout",
     "output_type": "stream",
     "text": [
      "eval psnr: 28.58\n"
     ]
    },
    {
     "name": "stderr",
     "output_type": "stream",
     "text": [
      "epoch: 106/399: 100%|█████████████████████████████████████████████████| 80/80 [00:00<00:00, 5613.64it/s, loss=0.001469]\n"
     ]
    },
    {
     "name": "stdout",
     "output_type": "stream",
     "text": [
      "eval psnr: 28.59\n"
     ]
    },
    {
     "name": "stderr",
     "output_type": "stream",
     "text": [
      "epoch: 107/399: 100%|█████████████████████████████████████████████████| 80/80 [00:00<00:00, 5419.87it/s, loss=0.001466]\n"
     ]
    },
    {
     "name": "stdout",
     "output_type": "stream",
     "text": [
      "eval psnr: 28.60\n"
     ]
    },
    {
     "name": "stderr",
     "output_type": "stream",
     "text": [
      "epoch: 108/399: 100%|█████████████████████████████████████████████████| 80/80 [00:00<00:00, 5580.59it/s, loss=0.001462]\n"
     ]
    },
    {
     "name": "stdout",
     "output_type": "stream",
     "text": [
      "eval psnr: 28.62\n"
     ]
    },
    {
     "name": "stderr",
     "output_type": "stream",
     "text": [
      "epoch: 109/399: 100%|█████████████████████████████████████████████████| 80/80 [00:00<00:00, 5536.49it/s, loss=0.001458]\n"
     ]
    },
    {
     "name": "stdout",
     "output_type": "stream",
     "text": [
      "eval psnr: 28.63\n"
     ]
    },
    {
     "name": "stderr",
     "output_type": "stream",
     "text": [
      "epoch: 110/399: 100%|█████████████████████████████████████████████████| 80/80 [00:00<00:00, 5616.65it/s, loss=0.001457]\n"
     ]
    },
    {
     "name": "stdout",
     "output_type": "stream",
     "text": [
      "eval psnr: 28.63\n"
     ]
    },
    {
     "name": "stderr",
     "output_type": "stream",
     "text": [
      "epoch: 111/399: 100%|█████████████████████████████████████████████████| 80/80 [00:00<00:00, 5914.34it/s, loss=0.001455]\n"
     ]
    },
    {
     "name": "stdout",
     "output_type": "stream",
     "text": [
      "eval psnr: 28.64\n"
     ]
    },
    {
     "name": "stderr",
     "output_type": "stream",
     "text": [
      "epoch: 112/399: 100%|█████████████████████████████████████████████████| 80/80 [00:00<00:00, 5608.20it/s, loss=0.001451]\n"
     ]
    },
    {
     "name": "stdout",
     "output_type": "stream",
     "text": [
      "eval psnr: 28.64\n"
     ]
    },
    {
     "name": "stderr",
     "output_type": "stream",
     "text": [
      "epoch: 113/399: 100%|█████████████████████████████████████████████████| 80/80 [00:00<00:00, 5396.08it/s, loss=0.001452]\n"
     ]
    },
    {
     "name": "stdout",
     "output_type": "stream",
     "text": [
      "eval psnr: 28.66\n"
     ]
    },
    {
     "name": "stderr",
     "output_type": "stream",
     "text": [
      "epoch: 114/399: 100%|█████████████████████████████████████████████████| 80/80 [00:00<00:00, 5465.51it/s, loss=0.001446]\n"
     ]
    },
    {
     "name": "stdout",
     "output_type": "stream",
     "text": [
      "eval psnr: 28.66\n"
     ]
    },
    {
     "name": "stderr",
     "output_type": "stream",
     "text": [
      "epoch: 115/399: 100%|█████████████████████████████████████████████████| 80/80 [00:00<00:00, 5477.11it/s, loss=0.001443]\n"
     ]
    },
    {
     "name": "stdout",
     "output_type": "stream",
     "text": [
      "eval psnr: 28.66\n"
     ]
    },
    {
     "name": "stderr",
     "output_type": "stream",
     "text": [
      "epoch: 116/399: 100%|█████████████████████████████████████████████████| 80/80 [00:00<00:00, 5607.83it/s, loss=0.001449]\n"
     ]
    },
    {
     "name": "stdout",
     "output_type": "stream",
     "text": [
      "eval psnr: 28.63\n"
     ]
    },
    {
     "name": "stderr",
     "output_type": "stream",
     "text": [
      "epoch: 117/399: 100%|█████████████████████████████████████████████████| 80/80 [00:00<00:00, 5387.59it/s, loss=0.001441]\n"
     ]
    },
    {
     "name": "stdout",
     "output_type": "stream",
     "text": [
      "eval psnr: 28.69\n"
     ]
    },
    {
     "name": "stderr",
     "output_type": "stream",
     "text": [
      "epoch: 118/399: 100%|█████████████████████████████████████████████████| 80/80 [00:00<00:00, 5629.37it/s, loss=0.001435]\n"
     ]
    },
    {
     "name": "stdout",
     "output_type": "stream",
     "text": [
      "eval psnr: 28.72\n"
     ]
    },
    {
     "name": "stderr",
     "output_type": "stream",
     "text": [
      "epoch: 119/399: 100%|█████████████████████████████████████████████████| 80/80 [00:00<00:00, 5384.73it/s, loss=0.001430]\n"
     ]
    },
    {
     "name": "stdout",
     "output_type": "stream",
     "text": [
      "eval psnr: 28.72\n"
     ]
    },
    {
     "name": "stderr",
     "output_type": "stream",
     "text": [
      "epoch: 120/399: 100%|█████████████████████████████████████████████████| 80/80 [00:00<00:00, 5376.28it/s, loss=0.001428]\n"
     ]
    },
    {
     "name": "stdout",
     "output_type": "stream",
     "text": [
      "eval psnr: 28.74\n"
     ]
    },
    {
     "name": "stderr",
     "output_type": "stream",
     "text": [
      "epoch: 121/399: 100%|█████████████████████████████████████████████████| 80/80 [00:00<00:00, 5482.30it/s, loss=0.001425]\n"
     ]
    },
    {
     "name": "stdout",
     "output_type": "stream",
     "text": [
      "eval psnr: 28.74\n"
     ]
    },
    {
     "name": "stderr",
     "output_type": "stream",
     "text": [
      "epoch: 122/399: 100%|█████████████████████████████████████████████████| 80/80 [00:00<00:00, 5539.32it/s, loss=0.001422]\n"
     ]
    },
    {
     "name": "stdout",
     "output_type": "stream",
     "text": [
      "eval psnr: 28.75\n"
     ]
    },
    {
     "name": "stderr",
     "output_type": "stream",
     "text": [
      "epoch: 123/399: 100%|█████████████████████████████████████████████████| 80/80 [00:00<00:00, 4702.73it/s, loss=0.001419]\n"
     ]
    },
    {
     "name": "stdout",
     "output_type": "stream",
     "text": [
      "eval psnr: 28.76\n"
     ]
    },
    {
     "name": "stderr",
     "output_type": "stream",
     "text": [
      "epoch: 124/399: 100%|█████████████████████████████████████████████████| 80/80 [00:00<00:00, 4715.95it/s, loss=0.001419]\n"
     ]
    },
    {
     "name": "stdout",
     "output_type": "stream",
     "text": [
      "eval psnr: 28.76\n"
     ]
    },
    {
     "name": "stderr",
     "output_type": "stream",
     "text": [
      "epoch: 125/399: 100%|█████████████████████████████████████████████████| 80/80 [00:00<00:00, 5453.43it/s, loss=0.001419]\n"
     ]
    },
    {
     "name": "stdout",
     "output_type": "stream",
     "text": [
      "eval psnr: 28.78\n"
     ]
    },
    {
     "name": "stderr",
     "output_type": "stream",
     "text": [
      "epoch: 126/399: 100%|█████████████████████████████████████████████████| 80/80 [00:00<00:00, 5354.32it/s, loss=0.001413]\n"
     ]
    },
    {
     "name": "stdout",
     "output_type": "stream",
     "text": [
      "eval psnr: 28.78\n"
     ]
    },
    {
     "name": "stderr",
     "output_type": "stream",
     "text": [
      "epoch: 127/399: 100%|█████████████████████████████████████████████████| 80/80 [00:00<00:00, 5591.57it/s, loss=0.001411]\n"
     ]
    },
    {
     "name": "stdout",
     "output_type": "stream",
     "text": [
      "eval psnr: 28.80\n"
     ]
    },
    {
     "name": "stderr",
     "output_type": "stream",
     "text": [
      "epoch: 128/399: 100%|█████████████████████████████████████████████████| 80/80 [00:00<00:00, 5595.76it/s, loss=0.001409]\n"
     ]
    },
    {
     "name": "stdout",
     "output_type": "stream",
     "text": [
      "eval psnr: 28.78\n"
     ]
    },
    {
     "name": "stderr",
     "output_type": "stream",
     "text": [
      "epoch: 129/399: 100%|█████████████████████████████████████████████████| 80/80 [00:00<00:00, 5366.91it/s, loss=0.001410]\n"
     ]
    },
    {
     "name": "stdout",
     "output_type": "stream",
     "text": [
      "eval psnr: 28.82\n"
     ]
    },
    {
     "name": "stderr",
     "output_type": "stream",
     "text": [
      "epoch: 130/399: 100%|█████████████████████████████████████████████████| 80/80 [00:00<00:00, 5070.94it/s, loss=0.001414]\n"
     ]
    },
    {
     "name": "stdout",
     "output_type": "stream",
     "text": [
      "eval psnr: 28.70\n"
     ]
    },
    {
     "name": "stderr",
     "output_type": "stream",
     "text": [
      "epoch: 131/399: 100%|█████████████████████████████████████████████████| 80/80 [00:00<00:00, 5779.87it/s, loss=0.001429]\n"
     ]
    },
    {
     "name": "stdout",
     "output_type": "stream",
     "text": [
      "eval psnr: 28.63\n"
     ]
    },
    {
     "name": "stderr",
     "output_type": "stream",
     "text": [
      "epoch: 132/399: 100%|█████████████████████████████████████████████████| 80/80 [00:00<00:00, 5583.94it/s, loss=0.001432]\n"
     ]
    },
    {
     "name": "stdout",
     "output_type": "stream",
     "text": [
      "eval psnr: 28.82\n"
     ]
    },
    {
     "name": "stderr",
     "output_type": "stream",
     "text": [
      "epoch: 133/399: 100%|█████████████████████████████████████████████████| 80/80 [00:00<00:00, 5466.58it/s, loss=0.001428]\n"
     ]
    },
    {
     "name": "stdout",
     "output_type": "stream",
     "text": [
      "eval psnr: 28.74\n"
     ]
    },
    {
     "name": "stderr",
     "output_type": "stream",
     "text": [
      "epoch: 134/399: 100%|█████████████████████████████████████████████████| 80/80 [00:00<00:00, 5478.90it/s, loss=0.001423]\n"
     ]
    },
    {
     "name": "stdout",
     "output_type": "stream",
     "text": [
      "eval psnr: 28.78\n"
     ]
    },
    {
     "name": "stderr",
     "output_type": "stream",
     "text": [
      "epoch: 135/399: 100%|█████████████████████████████████████████████████| 80/80 [00:00<00:00, 5582.08it/s, loss=0.001431]\n"
     ]
    },
    {
     "name": "stdout",
     "output_type": "stream",
     "text": [
      "eval psnr: 28.59\n"
     ]
    },
    {
     "name": "stderr",
     "output_type": "stream",
     "text": [
      "epoch: 136/399: 100%|█████████████████████████████████████████████████| 80/80 [00:00<00:00, 5210.64it/s, loss=0.001431]\n"
     ]
    },
    {
     "name": "stdout",
     "output_type": "stream",
     "text": [
      "eval psnr: 28.65\n"
     ]
    },
    {
     "name": "stderr",
     "output_type": "stream",
     "text": [
      "epoch: 137/399: 100%|█████████████████████████████████████████████████| 80/80 [00:00<00:00, 5757.06it/s, loss=0.001432]\n"
     ]
    },
    {
     "name": "stdout",
     "output_type": "stream",
     "text": [
      "eval psnr: 28.88\n"
     ]
    },
    {
     "name": "stderr",
     "output_type": "stream",
     "text": [
      "epoch: 138/399: 100%|█████████████████████████████████████████████████| 80/80 [00:00<00:00, 5567.81it/s, loss=0.001428]\n"
     ]
    },
    {
     "name": "stdout",
     "output_type": "stream",
     "text": [
      "eval psnr: 28.74\n"
     ]
    },
    {
     "name": "stderr",
     "output_type": "stream",
     "text": [
      "epoch: 139/399: 100%|█████████████████████████████████████████████████| 80/80 [00:00<00:00, 5510.39it/s, loss=0.001429]\n"
     ]
    },
    {
     "name": "stdout",
     "output_type": "stream",
     "text": [
      "eval psnr: 28.61\n"
     ]
    },
    {
     "name": "stderr",
     "output_type": "stream",
     "text": [
      "epoch: 140/399: 100%|█████████████████████████████████████████████████| 80/80 [00:00<00:00, 5523.91it/s, loss=0.001445]\n"
     ]
    },
    {
     "name": "stdout",
     "output_type": "stream",
     "text": [
      "eval psnr: 28.85\n"
     ]
    },
    {
     "name": "stderr",
     "output_type": "stream",
     "text": [
      "epoch: 141/399: 100%|█████████████████████████████████████████████████| 80/80 [00:00<00:00, 5246.16it/s, loss=0.001413]\n"
     ]
    },
    {
     "name": "stdout",
     "output_type": "stream",
     "text": [
      "eval psnr: 28.80\n"
     ]
    },
    {
     "name": "stderr",
     "output_type": "stream",
     "text": [
      "epoch: 142/399: 100%|█████████████████████████████████████████████████| 80/80 [00:00<00:00, 5680.26it/s, loss=0.001397]\n"
     ]
    },
    {
     "name": "stdout",
     "output_type": "stream",
     "text": [
      "eval psnr: 28.85\n"
     ]
    },
    {
     "name": "stderr",
     "output_type": "stream",
     "text": [
      "epoch: 143/399: 100%|█████████████████████████████████████████████████| 80/80 [00:00<00:00, 5674.50it/s, loss=0.001392]\n"
     ]
    },
    {
     "name": "stdout",
     "output_type": "stream",
     "text": [
      "eval psnr: 28.91\n"
     ]
    },
    {
     "name": "stderr",
     "output_type": "stream",
     "text": [
      "epoch: 144/399: 100%|█████████████████████████████████████████████████| 80/80 [00:00<00:00, 4587.07it/s, loss=0.001381]\n"
     ]
    },
    {
     "name": "stdout",
     "output_type": "stream",
     "text": [
      "eval psnr: 28.93\n"
     ]
    },
    {
     "name": "stderr",
     "output_type": "stream",
     "text": [
      "epoch: 145/399: 100%|█████████████████████████████████████████████████| 80/80 [00:00<00:00, 5059.78it/s, loss=0.001377]\n"
     ]
    },
    {
     "name": "stdout",
     "output_type": "stream",
     "text": [
      "eval psnr: 28.91\n"
     ]
    },
    {
     "name": "stderr",
     "output_type": "stream",
     "text": [
      "epoch: 146/399: 100%|█████████████████████████████████████████████████| 80/80 [00:00<00:00, 5820.17it/s, loss=0.001377]\n"
     ]
    },
    {
     "name": "stdout",
     "output_type": "stream",
     "text": [
      "eval psnr: 28.93\n"
     ]
    },
    {
     "name": "stderr",
     "output_type": "stream",
     "text": [
      "epoch: 147/399: 100%|█████████████████████████████████████████████████| 80/80 [00:00<00:00, 5243.54it/s, loss=0.001376]\n"
     ]
    },
    {
     "name": "stdout",
     "output_type": "stream",
     "text": [
      "eval psnr: 28.94\n"
     ]
    },
    {
     "name": "stderr",
     "output_type": "stream",
     "text": [
      "epoch: 148/399: 100%|█████████████████████████████████████████████████| 80/80 [00:00<00:00, 5577.53it/s, loss=0.001372]\n"
     ]
    },
    {
     "name": "stdout",
     "output_type": "stream",
     "text": [
      "eval psnr: 28.94\n"
     ]
    },
    {
     "name": "stderr",
     "output_type": "stream",
     "text": [
      "epoch: 149/399: 100%|█████████████████████████████████████████████████| 80/80 [00:00<00:00, 5366.05it/s, loss=0.001371]\n"
     ]
    },
    {
     "name": "stdout",
     "output_type": "stream",
     "text": [
      "eval psnr: 28.94\n"
     ]
    },
    {
     "name": "stderr",
     "output_type": "stream",
     "text": [
      "epoch: 150/399: 100%|█████████████████████████████████████████████████| 80/80 [00:00<00:00, 5604.36it/s, loss=0.001370]\n"
     ]
    },
    {
     "name": "stdout",
     "output_type": "stream",
     "text": [
      "eval psnr: 28.95\n"
     ]
    },
    {
     "name": "stderr",
     "output_type": "stream",
     "text": [
      "epoch: 151/399: 100%|█████████████████████████████████████████████████| 80/80 [00:00<00:00, 5592.22it/s, loss=0.001368]\n"
     ]
    },
    {
     "name": "stdout",
     "output_type": "stream",
     "text": [
      "eval psnr: 28.96\n"
     ]
    },
    {
     "name": "stderr",
     "output_type": "stream",
     "text": [
      "epoch: 152/399: 100%|█████████████████████████████████████████████████| 80/80 [00:00<00:00, 5917.99it/s, loss=0.001366]\n"
     ]
    },
    {
     "name": "stdout",
     "output_type": "stream",
     "text": [
      "eval psnr: 28.97\n"
     ]
    },
    {
     "name": "stderr",
     "output_type": "stream",
     "text": [
      "epoch: 153/399: 100%|█████████████████████████████████████████████████| 80/80 [00:00<00:00, 5710.03it/s, loss=0.001364]\n"
     ]
    },
    {
     "name": "stdout",
     "output_type": "stream",
     "text": [
      "eval psnr: 28.98\n"
     ]
    },
    {
     "name": "stderr",
     "output_type": "stream",
     "text": [
      "epoch: 154/399: 100%|█████████████████████████████████████████████████| 80/80 [00:00<00:00, 5271.54it/s, loss=0.001363]\n"
     ]
    },
    {
     "name": "stdout",
     "output_type": "stream",
     "text": [
      "eval psnr: 28.98\n"
     ]
    },
    {
     "name": "stderr",
     "output_type": "stream",
     "text": [
      "epoch: 155/399: 100%|█████████████████████████████████████████████████| 80/80 [00:00<00:00, 5734.92it/s, loss=0.001363]\n"
     ]
    },
    {
     "name": "stdout",
     "output_type": "stream",
     "text": [
      "eval psnr: 28.98\n"
     ]
    },
    {
     "name": "stderr",
     "output_type": "stream",
     "text": [
      "epoch: 156/399: 100%|█████████████████████████████████████████████████| 80/80 [00:00<00:00, 5682.66it/s, loss=0.001361]\n"
     ]
    },
    {
     "name": "stdout",
     "output_type": "stream",
     "text": [
      "eval psnr: 28.99\n"
     ]
    },
    {
     "name": "stderr",
     "output_type": "stream",
     "text": [
      "epoch: 157/399: 100%|█████████████████████████████████████████████████| 80/80 [00:00<00:00, 5614.21it/s, loss=0.001361]\n"
     ]
    },
    {
     "name": "stdout",
     "output_type": "stream",
     "text": [
      "eval psnr: 29.00\n"
     ]
    },
    {
     "name": "stderr",
     "output_type": "stream",
     "text": [
      "epoch: 158/399: 100%|█████████████████████████████████████████████████| 80/80 [00:00<00:00, 5646.52it/s, loss=0.001360]\n"
     ]
    },
    {
     "name": "stdout",
     "output_type": "stream",
     "text": [
      "eval psnr: 28.99\n"
     ]
    },
    {
     "name": "stderr",
     "output_type": "stream",
     "text": [
      "epoch: 159/399: 100%|█████████████████████████████████████████████████| 80/80 [00:00<00:00, 5575.86it/s, loss=0.001359]\n"
     ]
    },
    {
     "name": "stdout",
     "output_type": "stream",
     "text": [
      "eval psnr: 29.00\n"
     ]
    },
    {
     "name": "stderr",
     "output_type": "stream",
     "text": [
      "epoch: 160/399: 100%|█████████████████████████████████████████████████| 80/80 [00:00<00:00, 5570.31it/s, loss=0.001357]\n"
     ]
    },
    {
     "name": "stdout",
     "output_type": "stream",
     "text": [
      "eval psnr: 29.00\n"
     ]
    },
    {
     "name": "stderr",
     "output_type": "stream",
     "text": [
      "epoch: 161/399: 100%|█████████████████████████████████████████████████| 80/80 [00:00<00:00, 5437.44it/s, loss=0.001356]\n"
     ]
    },
    {
     "name": "stdout",
     "output_type": "stream",
     "text": [
      "eval psnr: 29.01\n"
     ]
    },
    {
     "name": "stderr",
     "output_type": "stream",
     "text": [
      "epoch: 162/399: 100%|█████████████████████████████████████████████████| 80/80 [00:00<00:00, 5700.82it/s, loss=0.001353]\n"
     ]
    },
    {
     "name": "stdout",
     "output_type": "stream",
     "text": [
      "eval psnr: 29.02\n"
     ]
    },
    {
     "name": "stderr",
     "output_type": "stream",
     "text": [
      "epoch: 163/399: 100%|█████████████████████████████████████████████████| 80/80 [00:00<00:00, 5755.77it/s, loss=0.001352]\n"
     ]
    },
    {
     "name": "stdout",
     "output_type": "stream",
     "text": [
      "eval psnr: 29.02\n"
     ]
    },
    {
     "name": "stderr",
     "output_type": "stream",
     "text": [
      "epoch: 164/399: 100%|█████████████████████████████████████████████████| 80/80 [00:00<00:00, 5457.43it/s, loss=0.001350]\n"
     ]
    },
    {
     "name": "stdout",
     "output_type": "stream",
     "text": [
      "eval psnr: 29.03\n"
     ]
    },
    {
     "name": "stderr",
     "output_type": "stream",
     "text": [
      "epoch: 165/399: 100%|█████████████████████████████████████████████████| 80/80 [00:00<00:00, 5755.58it/s, loss=0.001349]\n"
     ]
    },
    {
     "name": "stdout",
     "output_type": "stream",
     "text": [
      "eval psnr: 29.03\n"
     ]
    },
    {
     "name": "stderr",
     "output_type": "stream",
     "text": [
      "epoch: 166/399: 100%|█████████████████████████████████████████████████| 80/80 [00:00<00:00, 5783.45it/s, loss=0.001348]"
     ]
    },
    {
     "name": "stdout",
     "output_type": "stream",
     "text": [
      "eval psnr: 29.04\n"
     ]
    },
    {
     "name": "stderr",
     "output_type": "stream",
     "text": [
      "\n",
      "epoch: 167/399: 100%|█████████████████████████████████████████████████| 80/80 [00:00<00:00, 5352.18it/s, loss=0.001346]\n"
     ]
    },
    {
     "name": "stdout",
     "output_type": "stream",
     "text": [
      "eval psnr: 29.04\n"
     ]
    },
    {
     "name": "stderr",
     "output_type": "stream",
     "text": [
      "epoch: 168/399: 100%|█████████████████████████████████████████████████| 80/80 [00:00<00:00, 5591.57it/s, loss=0.001346]\n"
     ]
    },
    {
     "name": "stdout",
     "output_type": "stream",
     "text": [
      "eval psnr: 29.05\n"
     ]
    },
    {
     "name": "stderr",
     "output_type": "stream",
     "text": [
      "epoch: 169/399: 100%|█████████████████████████████████████████████████| 80/80 [00:00<00:00, 5891.29it/s, loss=0.001345]\n"
     ]
    },
    {
     "name": "stdout",
     "output_type": "stream",
     "text": [
      "eval psnr: 29.05\n"
     ]
    },
    {
     "name": "stderr",
     "output_type": "stream",
     "text": [
      "epoch: 170/399: 100%|█████████████████████████████████████████████████| 80/80 [00:00<00:00, 5549.95it/s, loss=0.001344]\n"
     ]
    },
    {
     "name": "stdout",
     "output_type": "stream",
     "text": [
      "eval psnr: 29.06\n"
     ]
    },
    {
     "name": "stderr",
     "output_type": "stream",
     "text": [
      "epoch: 171/399: 100%|█████████████████████████████████████████████████| 80/80 [00:00<00:00, 5863.70it/s, loss=0.001342]"
     ]
    },
    {
     "name": "stdout",
     "output_type": "stream",
     "text": [
      "eval psnr: 29.06\n"
     ]
    },
    {
     "name": "stderr",
     "output_type": "stream",
     "text": [
      "\n",
      "epoch: 172/399: 100%|█████████████████████████████████████████████████| 80/80 [00:00<00:00, 5634.76it/s, loss=0.001341]"
     ]
    },
    {
     "name": "stdout",
     "output_type": "stream",
     "text": [
      "eval psnr: 29.07\n"
     ]
    },
    {
     "name": "stderr",
     "output_type": "stream",
     "text": [
      "\n",
      "epoch: 173/399: 100%|█████████████████████████████████████████████████| 80/80 [00:00<00:00, 5369.91it/s, loss=0.001340]"
     ]
    },
    {
     "name": "stdout",
     "output_type": "stream",
     "text": [
      "eval psnr: 29.08\n"
     ]
    },
    {
     "name": "stderr",
     "output_type": "stream",
     "text": [
      "\n",
      "epoch: 174/399: 100%|█████████████████████████████████████████████████| 80/80 [00:00<00:00, 5616.74it/s, loss=0.001338]\n"
     ]
    },
    {
     "name": "stdout",
     "output_type": "stream",
     "text": [
      "eval psnr: 29.08\n"
     ]
    },
    {
     "name": "stderr",
     "output_type": "stream",
     "text": [
      "epoch: 175/399: 100%|█████████████████████████████████████████████████| 80/80 [00:00<00:00, 5253.72it/s, loss=0.001337]\n"
     ]
    },
    {
     "name": "stdout",
     "output_type": "stream",
     "text": [
      "eval psnr: 29.08\n"
     ]
    },
    {
     "name": "stderr",
     "output_type": "stream",
     "text": [
      "epoch: 176/399: 100%|█████████████████████████████████████████████████| 80/80 [00:00<00:00, 5542.25it/s, loss=0.001336]\n"
     ]
    },
    {
     "name": "stdout",
     "output_type": "stream",
     "text": [
      "eval psnr: 29.08\n"
     ]
    },
    {
     "name": "stderr",
     "output_type": "stream",
     "text": [
      "epoch: 177/399: 100%|█████████████████████████████████████████████████| 80/80 [00:00<00:00, 5731.10it/s, loss=0.001335]\n"
     ]
    },
    {
     "name": "stdout",
     "output_type": "stream",
     "text": [
      "eval psnr: 29.09\n"
     ]
    },
    {
     "name": "stderr",
     "output_type": "stream",
     "text": [
      "epoch: 178/399: 100%|█████████████████████████████████████████████████| 80/80 [00:00<00:00, 5481.50it/s, loss=0.001335]\n"
     ]
    },
    {
     "name": "stdout",
     "output_type": "stream",
     "text": [
      "eval psnr: 29.09\n"
     ]
    },
    {
     "name": "stderr",
     "output_type": "stream",
     "text": [
      "epoch: 179/399: 100%|█████████████████████████████████████████████████| 80/80 [00:00<00:00, 5606.42it/s, loss=0.001336]"
     ]
    },
    {
     "name": "stdout",
     "output_type": "stream",
     "text": [
      "eval psnr: 29.10\n"
     ]
    },
    {
     "name": "stderr",
     "output_type": "stream",
     "text": [
      "\n",
      "epoch: 180/399: 100%|█████████████████████████████████████████████████| 80/80 [00:00<00:00, 5726.40it/s, loss=0.001335]"
     ]
    },
    {
     "name": "stdout",
     "output_type": "stream",
     "text": [
      "eval psnr: 29.10\n"
     ]
    },
    {
     "name": "stderr",
     "output_type": "stream",
     "text": [
      "\n",
      "epoch: 181/399: 100%|█████████████████████████████████████████████████| 80/80 [00:00<00:00, 5554.08it/s, loss=0.001336]\n"
     ]
    },
    {
     "name": "stdout",
     "output_type": "stream",
     "text": [
      "eval psnr: 29.10\n"
     ]
    },
    {
     "name": "stderr",
     "output_type": "stream",
     "text": [
      "epoch: 182/399: 100%|█████████████████████████████████████████████████| 80/80 [00:00<00:00, 5378.95it/s, loss=0.001339]\n"
     ]
    },
    {
     "name": "stdout",
     "output_type": "stream",
     "text": [
      "eval psnr: 29.11\n"
     ]
    },
    {
     "name": "stderr",
     "output_type": "stream",
     "text": [
      "epoch: 183/399: 100%|█████████████████████████████████████████████████| 80/80 [00:00<00:00, 5665.68it/s, loss=0.001334]\n"
     ]
    },
    {
     "name": "stdout",
     "output_type": "stream",
     "text": [
      "eval psnr: 29.10\n"
     ]
    },
    {
     "name": "stderr",
     "output_type": "stream",
     "text": [
      "epoch: 184/399: 100%|█████████████████████████████████████████████████| 80/80 [00:00<00:00, 5379.38it/s, loss=0.001331]\n"
     ]
    },
    {
     "name": "stdout",
     "output_type": "stream",
     "text": [
      "eval psnr: 29.12\n"
     ]
    },
    {
     "name": "stderr",
     "output_type": "stream",
     "text": [
      "epoch: 185/399: 100%|█████████████████████████████████████████████████| 80/80 [00:00<00:00, 5452.55it/s, loss=0.001327]\n"
     ]
    },
    {
     "name": "stdout",
     "output_type": "stream",
     "text": [
      "eval psnr: 29.13\n"
     ]
    },
    {
     "name": "stderr",
     "output_type": "stream",
     "text": [
      "epoch: 186/399: 100%|█████████████████████████████████████████████████| 80/80 [00:00<00:00, 5458.85it/s, loss=0.001324]\n"
     ]
    },
    {
     "name": "stdout",
     "output_type": "stream",
     "text": [
      "eval psnr: 29.13\n"
     ]
    },
    {
     "name": "stderr",
     "output_type": "stream",
     "text": [
      "epoch: 187/399: 100%|█████████████████████████████████████████████████| 80/80 [00:00<00:00, 5626.26it/s, loss=0.001323]\n"
     ]
    },
    {
     "name": "stdout",
     "output_type": "stream",
     "text": [
      "eval psnr: 29.14\n"
     ]
    },
    {
     "name": "stderr",
     "output_type": "stream",
     "text": [
      "epoch: 188/399: 100%|█████████████████████████████████████████████████| 80/80 [00:00<00:00, 5338.30it/s, loss=0.001323]\n"
     ]
    },
    {
     "name": "stdout",
     "output_type": "stream",
     "text": [
      "eval psnr: 29.13\n"
     ]
    },
    {
     "name": "stderr",
     "output_type": "stream",
     "text": [
      "epoch: 189/399: 100%|█████████████████████████████████████████████████| 80/80 [00:00<00:00, 5637.98it/s, loss=0.001323]\n"
     ]
    },
    {
     "name": "stdout",
     "output_type": "stream",
     "text": [
      "eval psnr: 29.14\n"
     ]
    },
    {
     "name": "stderr",
     "output_type": "stream",
     "text": [
      "epoch: 190/399: 100%|█████████████████████████████████████████████████| 80/80 [00:00<00:00, 5606.61it/s, loss=0.001322]\n"
     ]
    },
    {
     "name": "stdout",
     "output_type": "stream",
     "text": [
      "eval psnr: 29.12\n"
     ]
    },
    {
     "name": "stderr",
     "output_type": "stream",
     "text": [
      "epoch: 191/399: 100%|█████████████████████████████████████████████████| 80/80 [00:00<00:00, 5460.89it/s, loss=0.001321]\n"
     ]
    },
    {
     "name": "stdout",
     "output_type": "stream",
     "text": [
      "eval psnr: 29.14\n"
     ]
    },
    {
     "name": "stderr",
     "output_type": "stream",
     "text": [
      "epoch: 192/399: 100%|█████████████████████████████████████████████████| 80/80 [00:00<00:00, 5494.15it/s, loss=0.001320]\n"
     ]
    },
    {
     "name": "stdout",
     "output_type": "stream",
     "text": [
      "eval psnr: 29.07\n"
     ]
    },
    {
     "name": "stderr",
     "output_type": "stream",
     "text": [
      "epoch: 193/399: 100%|█████████████████████████████████████████████████| 80/80 [00:00<00:00, 5413.14it/s, loss=0.001329]\n"
     ]
    },
    {
     "name": "stdout",
     "output_type": "stream",
     "text": [
      "eval psnr: 29.02\n"
     ]
    },
    {
     "name": "stderr",
     "output_type": "stream",
     "text": [
      "epoch: 194/399: 100%|█████████████████████████████████████████████████| 80/80 [00:00<00:00, 5642.43it/s, loss=0.001342]\n"
     ]
    },
    {
     "name": "stdout",
     "output_type": "stream",
     "text": [
      "eval psnr: 28.92\n"
     ]
    },
    {
     "name": "stderr",
     "output_type": "stream",
     "text": [
      "epoch: 195/399: 100%|█████████████████████████████████████████████████| 80/80 [00:00<00:00, 5298.35it/s, loss=0.001341]\n"
     ]
    },
    {
     "name": "stdout",
     "output_type": "stream",
     "text": [
      "eval psnr: 29.09\n"
     ]
    },
    {
     "name": "stderr",
     "output_type": "stream",
     "text": [
      "epoch: 196/399: 100%|█████████████████████████████████████████████████| 80/80 [00:00<00:00, 5542.34it/s, loss=0.001340]\n"
     ]
    },
    {
     "name": "stdout",
     "output_type": "stream",
     "text": [
      "eval psnr: 28.95\n"
     ]
    },
    {
     "name": "stderr",
     "output_type": "stream",
     "text": [
      "epoch: 197/399: 100%|█████████████████████████████████████████████████| 80/80 [00:00<00:00, 5214.61it/s, loss=0.001350]\n"
     ]
    },
    {
     "name": "stdout",
     "output_type": "stream",
     "text": [
      "eval psnr: 29.14\n"
     ]
    },
    {
     "name": "stderr",
     "output_type": "stream",
     "text": [
      "epoch: 198/399: 100%|█████████████████████████████████████████████████| 80/80 [00:00<00:00, 4869.60it/s, loss=0.001323]\n"
     ]
    },
    {
     "name": "stdout",
     "output_type": "stream",
     "text": [
      "eval psnr: 29.17\n"
     ]
    },
    {
     "name": "stderr",
     "output_type": "stream",
     "text": [
      "epoch: 199/399: 100%|█████████████████████████████████████████████████| 80/80 [00:00<00:00, 5364.67it/s, loss=0.001315]\n"
     ]
    },
    {
     "name": "stdout",
     "output_type": "stream",
     "text": [
      "eval psnr: 29.17\n"
     ]
    },
    {
     "name": "stderr",
     "output_type": "stream",
     "text": [
      "epoch: 200/399: 100%|█████████████████████████████████████████████████| 80/80 [00:00<00:00, 5610.36it/s, loss=0.001313]\n"
     ]
    },
    {
     "name": "stdout",
     "output_type": "stream",
     "text": [
      "eval psnr: 29.17\n"
     ]
    },
    {
     "name": "stderr",
     "output_type": "stream",
     "text": [
      "epoch: 201/399: 100%|█████████████████████████████████████████████████| 80/80 [00:00<00:00, 5394.69it/s, loss=0.001311]\n"
     ]
    },
    {
     "name": "stdout",
     "output_type": "stream",
     "text": [
      "eval psnr: 29.18\n"
     ]
    },
    {
     "name": "stderr",
     "output_type": "stream",
     "text": [
      "epoch: 202/399: 100%|█████████████████████████████████████████████████| 80/80 [00:00<00:00, 5509.58it/s, loss=0.001310]\n"
     ]
    },
    {
     "name": "stdout",
     "output_type": "stream",
     "text": [
      "eval psnr: 29.19\n"
     ]
    },
    {
     "name": "stderr",
     "output_type": "stream",
     "text": [
      "epoch: 203/399: 100%|█████████████████████████████████████████████████| 80/80 [00:00<00:00, 5709.25it/s, loss=0.001309]\n"
     ]
    },
    {
     "name": "stdout",
     "output_type": "stream",
     "text": [
      "eval psnr: 29.19\n"
     ]
    },
    {
     "name": "stderr",
     "output_type": "stream",
     "text": [
      "epoch: 204/399: 100%|█████████████████████████████████████████████████| 80/80 [00:00<00:00, 5530.46it/s, loss=0.001308]\n"
     ]
    },
    {
     "name": "stdout",
     "output_type": "stream",
     "text": [
      "eval psnr: 29.20\n"
     ]
    },
    {
     "name": "stderr",
     "output_type": "stream",
     "text": [
      "epoch: 205/399: 100%|█████████████████████████████████████████████████| 80/80 [00:00<00:00, 5498.02it/s, loss=0.001306]\n"
     ]
    },
    {
     "name": "stdout",
     "output_type": "stream",
     "text": [
      "eval psnr: 29.20\n"
     ]
    },
    {
     "name": "stderr",
     "output_type": "stream",
     "text": [
      "epoch: 206/399: 100%|█████████████████████████████████████████████████| 80/80 [00:00<00:00, 5425.92it/s, loss=0.001305]\n"
     ]
    },
    {
     "name": "stdout",
     "output_type": "stream",
     "text": [
      "eval psnr: 29.21\n"
     ]
    },
    {
     "name": "stderr",
     "output_type": "stream",
     "text": [
      "epoch: 207/399: 100%|█████████████████████████████████████████████████| 80/80 [00:00<00:00, 5633.81it/s, loss=0.001305]\n"
     ]
    },
    {
     "name": "stdout",
     "output_type": "stream",
     "text": [
      "eval psnr: 29.22\n"
     ]
    },
    {
     "name": "stderr",
     "output_type": "stream",
     "text": [
      "epoch: 208/399: 100%|█████████████████████████████████████████████████| 80/80 [00:00<00:00, 5565.60it/s, loss=0.001304]\n"
     ]
    },
    {
     "name": "stdout",
     "output_type": "stream",
     "text": [
      "eval psnr: 29.21\n"
     ]
    },
    {
     "name": "stderr",
     "output_type": "stream",
     "text": [
      "epoch: 209/399: 100%|█████████████████████████████████████████████████| 80/80 [00:00<00:00, 5401.29it/s, loss=0.001304]\n"
     ]
    },
    {
     "name": "stdout",
     "output_type": "stream",
     "text": [
      "eval psnr: 29.22\n"
     ]
    },
    {
     "name": "stderr",
     "output_type": "stream",
     "text": [
      "epoch: 210/399: 100%|█████████████████████████████████████████████████| 80/80 [00:00<00:00, 5416.37it/s, loss=0.001303]\n"
     ]
    },
    {
     "name": "stdout",
     "output_type": "stream",
     "text": [
      "eval psnr: 29.22\n"
     ]
    },
    {
     "name": "stderr",
     "output_type": "stream",
     "text": [
      "epoch: 211/399: 100%|█████████████████████████████████████████████████| 80/80 [00:00<00:00, 5415.06it/s, loss=0.001301]\n"
     ]
    },
    {
     "name": "stdout",
     "output_type": "stream",
     "text": [
      "eval psnr: 29.23\n"
     ]
    },
    {
     "name": "stderr",
     "output_type": "stream",
     "text": [
      "epoch: 212/399: 100%|█████████████████████████████████████████████████| 80/80 [00:00<00:00, 5448.74it/s, loss=0.001301]\n"
     ]
    },
    {
     "name": "stdout",
     "output_type": "stream",
     "text": [
      "eval psnr: 29.22\n"
     ]
    },
    {
     "name": "stderr",
     "output_type": "stream",
     "text": [
      "epoch: 213/399: 100%|█████████████████████████████████████████████████| 80/80 [00:00<00:00, 5603.24it/s, loss=0.001301]\n"
     ]
    },
    {
     "name": "stdout",
     "output_type": "stream",
     "text": [
      "eval psnr: 29.24\n"
     ]
    },
    {
     "name": "stderr",
     "output_type": "stream",
     "text": [
      "epoch: 214/399: 100%|█████████████████████████████████████████████████| 80/80 [00:00<00:00, 5457.34it/s, loss=0.001301]\n"
     ]
    },
    {
     "name": "stdout",
     "output_type": "stream",
     "text": [
      "eval psnr: 29.24\n"
     ]
    },
    {
     "name": "stderr",
     "output_type": "stream",
     "text": [
      "epoch: 215/399: 100%|█████████████████████████████████████████████████| 80/80 [00:00<00:00, 5214.61it/s, loss=0.001299]\n"
     ]
    },
    {
     "name": "stdout",
     "output_type": "stream",
     "text": [
      "eval psnr: 29.24\n"
     ]
    },
    {
     "name": "stderr",
     "output_type": "stream",
     "text": [
      "epoch: 216/399: 100%|█████████████████████████████████████████████████| 80/80 [00:00<00:00, 5571.42it/s, loss=0.001297]\n"
     ]
    },
    {
     "name": "stdout",
     "output_type": "stream",
     "text": [
      "eval psnr: 29.25\n"
     ]
    },
    {
     "name": "stderr",
     "output_type": "stream",
     "text": [
      "epoch: 217/399: 100%|█████████████████████████████████████████████████| 80/80 [00:00<00:00, 5516.19it/s, loss=0.001297]\n"
     ]
    },
    {
     "name": "stdout",
     "output_type": "stream",
     "text": [
      "eval psnr: 29.25\n"
     ]
    },
    {
     "name": "stderr",
     "output_type": "stream",
     "text": [
      "epoch: 218/399: 100%|█████████████████████████████████████████████████| 80/80 [00:00<00:00, 5553.71it/s, loss=0.001296]\n"
     ]
    },
    {
     "name": "stdout",
     "output_type": "stream",
     "text": [
      "eval psnr: 29.25\n"
     ]
    },
    {
     "name": "stderr",
     "output_type": "stream",
     "text": [
      "epoch: 219/399: 100%|█████████████████████████████████████████████████| 80/80 [00:00<00:00, 5422.24it/s, loss=0.001296]\n"
     ]
    },
    {
     "name": "stdout",
     "output_type": "stream",
     "text": [
      "eval psnr: 29.25\n"
     ]
    },
    {
     "name": "stderr",
     "output_type": "stream",
     "text": [
      "epoch: 220/399: 100%|█████████████████████████████████████████████████| 80/80 [00:00<00:00, 5702.37it/s, loss=0.001295]\n"
     ]
    },
    {
     "name": "stdout",
     "output_type": "stream",
     "text": [
      "eval psnr: 29.25\n"
     ]
    },
    {
     "name": "stderr",
     "output_type": "stream",
     "text": [
      "epoch: 221/399: 100%|█████████████████████████████████████████████████| 80/80 [00:00<00:00, 5526.55it/s, loss=0.001294]\n"
     ]
    },
    {
     "name": "stdout",
     "output_type": "stream",
     "text": [
      "eval psnr: 29.25\n"
     ]
    },
    {
     "name": "stderr",
     "output_type": "stream",
     "text": [
      "epoch: 222/399: 100%|█████████████████████████████████████████████████| 80/80 [00:00<00:00, 5632.02it/s, loss=0.001293]\n"
     ]
    },
    {
     "name": "stdout",
     "output_type": "stream",
     "text": [
      "eval psnr: 29.26\n"
     ]
    },
    {
     "name": "stderr",
     "output_type": "stream",
     "text": [
      "epoch: 223/399: 100%|█████████████████████████████████████████████████| 80/80 [00:00<00:00, 5626.92it/s, loss=0.001293]\n"
     ]
    },
    {
     "name": "stdout",
     "output_type": "stream",
     "text": [
      "eval psnr: 29.26\n"
     ]
    },
    {
     "name": "stderr",
     "output_type": "stream",
     "text": [
      "epoch: 224/399: 100%|█████████████████████████████████████████████████| 80/80 [00:00<00:00, 5576.23it/s, loss=0.001292]\n"
     ]
    },
    {
     "name": "stdout",
     "output_type": "stream",
     "text": [
      "eval psnr: 29.27\n"
     ]
    },
    {
     "name": "stderr",
     "output_type": "stream",
     "text": [
      "epoch: 225/399: 100%|█████████████████████████████████████████████████| 80/80 [00:00<00:00, 5601.18it/s, loss=0.001290]\n"
     ]
    },
    {
     "name": "stdout",
     "output_type": "stream",
     "text": [
      "eval psnr: 29.27\n"
     ]
    },
    {
     "name": "stderr",
     "output_type": "stream",
     "text": [
      "epoch: 226/399: 100%|█████████████████████████████████████████████████| 80/80 [00:00<00:00, 5313.37it/s, loss=0.001289]\n"
     ]
    },
    {
     "name": "stdout",
     "output_type": "stream",
     "text": [
      "eval psnr: 29.28\n"
     ]
    },
    {
     "name": "stderr",
     "output_type": "stream",
     "text": [
      "epoch: 227/399: 100%|█████████████████████████████████████████████████| 80/80 [00:00<00:00, 5483.74it/s, loss=0.001290]\n"
     ]
    },
    {
     "name": "stdout",
     "output_type": "stream",
     "text": [
      "eval psnr: 29.28\n"
     ]
    },
    {
     "name": "stderr",
     "output_type": "stream",
     "text": [
      "epoch: 228/399: 100%|█████████████████████████████████████████████████| 80/80 [00:00<00:00, 5483.92it/s, loss=0.001288]\n"
     ]
    },
    {
     "name": "stdout",
     "output_type": "stream",
     "text": [
      "eval psnr: 29.27\n"
     ]
    },
    {
     "name": "stderr",
     "output_type": "stream",
     "text": [
      "epoch: 229/399: 100%|█████████████████████████████████████████████████| 80/80 [00:00<00:00, 5391.66it/s, loss=0.001289]\n"
     ]
    },
    {
     "name": "stdout",
     "output_type": "stream",
     "text": [
      "eval psnr: 29.28\n"
     ]
    },
    {
     "name": "stderr",
     "output_type": "stream",
     "text": [
      "epoch: 230/399: 100%|█████████████████████████████████████████████████| 80/80 [00:00<00:00, 5689.99it/s, loss=0.001288]\n"
     ]
    },
    {
     "name": "stdout",
     "output_type": "stream",
     "text": [
      "eval psnr: 29.28\n"
     ]
    },
    {
     "name": "stderr",
     "output_type": "stream",
     "text": [
      "epoch: 231/399: 100%|█████████████████████████████████████████████████| 80/80 [00:00<00:00, 5309.25it/s, loss=0.001286]\n"
     ]
    },
    {
     "name": "stdout",
     "output_type": "stream",
     "text": [
      "eval psnr: 29.29\n"
     ]
    },
    {
     "name": "stderr",
     "output_type": "stream",
     "text": [
      "epoch: 232/399: 100%|█████████████████████████████████████████████████| 80/80 [00:00<00:00, 5711.49it/s, loss=0.001285]\n"
     ]
    },
    {
     "name": "stdout",
     "output_type": "stream",
     "text": [
      "eval psnr: 29.29\n"
     ]
    },
    {
     "name": "stderr",
     "output_type": "stream",
     "text": [
      "epoch: 233/399: 100%|█████████████████████████████████████████████████| 80/80 [00:00<00:00, 5550.13it/s, loss=0.001285]\n"
     ]
    },
    {
     "name": "stdout",
     "output_type": "stream",
     "text": [
      "eval psnr: 29.29\n"
     ]
    },
    {
     "name": "stderr",
     "output_type": "stream",
     "text": [
      "epoch: 234/399: 100%|█████████████████████████████████████████████████| 80/80 [00:00<00:00, 5440.17it/s, loss=0.001285]\n"
     ]
    },
    {
     "name": "stdout",
     "output_type": "stream",
     "text": [
      "eval psnr: 29.28\n"
     ]
    },
    {
     "name": "stderr",
     "output_type": "stream",
     "text": [
      "epoch: 235/399: 100%|█████████████████████████████████████████████████| 80/80 [00:00<00:00, 5477.11it/s, loss=0.001285]\n"
     ]
    },
    {
     "name": "stdout",
     "output_type": "stream",
     "text": [
      "eval psnr: 29.30\n"
     ]
    },
    {
     "name": "stderr",
     "output_type": "stream",
     "text": [
      "epoch: 236/399: 100%|█████████████████████████████████████████████████| 80/80 [00:00<00:00, 5204.90it/s, loss=0.001284]\n"
     ]
    },
    {
     "name": "stdout",
     "output_type": "stream",
     "text": [
      "eval psnr: 29.30\n"
     ]
    },
    {
     "name": "stderr",
     "output_type": "stream",
     "text": [
      "epoch: 237/399: 100%|█████████████████████████████████████████████████| 80/80 [00:00<00:00, 5382.66it/s, loss=0.001283]\n"
     ]
    },
    {
     "name": "stdout",
     "output_type": "stream",
     "text": [
      "eval psnr: 29.30\n"
     ]
    },
    {
     "name": "stderr",
     "output_type": "stream",
     "text": [
      "epoch: 238/399: 100%|█████████████████████████████████████████████████| 80/80 [00:00<00:00, 5677.28it/s, loss=0.001282]\n"
     ]
    },
    {
     "name": "stdout",
     "output_type": "stream",
     "text": [
      "eval psnr: 29.31\n"
     ]
    },
    {
     "name": "stderr",
     "output_type": "stream",
     "text": [
      "epoch: 239/399: 100%|█████████████████████████████████████████████████| 80/80 [00:00<00:00, 5559.33it/s, loss=0.001282]\n"
     ]
    },
    {
     "name": "stdout",
     "output_type": "stream",
     "text": [
      "eval psnr: 29.29\n"
     ]
    },
    {
     "name": "stderr",
     "output_type": "stream",
     "text": [
      "epoch: 240/399: 100%|█████████████████████████████████████████████████| 80/80 [00:00<00:00, 5385.08it/s, loss=0.001284]\n"
     ]
    },
    {
     "name": "stdout",
     "output_type": "stream",
     "text": [
      "eval psnr: 29.29\n"
     ]
    },
    {
     "name": "stderr",
     "output_type": "stream",
     "text": [
      "epoch: 241/399: 100%|█████████████████████████████████████████████████| 80/80 [00:00<00:00, 5676.80it/s, loss=0.001285]\n"
     ]
    },
    {
     "name": "stdout",
     "output_type": "stream",
     "text": [
      "eval psnr: 29.32\n"
     ]
    },
    {
     "name": "stderr",
     "output_type": "stream",
     "text": [
      "epoch: 242/399: 100%|█████████████████████████████████████████████████| 80/80 [00:00<00:00, 5349.62it/s, loss=0.001281]\n"
     ]
    },
    {
     "name": "stdout",
     "output_type": "stream",
     "text": [
      "eval psnr: 29.32\n"
     ]
    },
    {
     "name": "stderr",
     "output_type": "stream",
     "text": [
      "epoch: 243/399: 100%|█████████████████████████████████████████████████| 80/80 [00:00<00:00, 5651.18it/s, loss=0.001280]\n"
     ]
    },
    {
     "name": "stdout",
     "output_type": "stream",
     "text": [
      "eval psnr: 29.30\n"
     ]
    },
    {
     "name": "stderr",
     "output_type": "stream",
     "text": [
      "epoch: 244/399: 100%|█████████████████████████████████████████████████| 80/80 [00:00<00:00, 5572.90it/s, loss=0.001281]\n"
     ]
    },
    {
     "name": "stdout",
     "output_type": "stream",
     "text": [
      "eval psnr: 29.33\n"
     ]
    },
    {
     "name": "stderr",
     "output_type": "stream",
     "text": [
      "epoch: 245/399: 100%|█████████████████████████████████████████████████| 80/80 [00:00<00:00, 5556.29it/s, loss=0.001278]\n"
     ]
    },
    {
     "name": "stdout",
     "output_type": "stream",
     "text": [
      "eval psnr: 29.34\n"
     ]
    },
    {
     "name": "stderr",
     "output_type": "stream",
     "text": [
      "epoch: 246/399: 100%|█████████████████████████████████████████████████| 80/80 [00:00<00:00, 5668.36it/s, loss=0.001278]\n"
     ]
    },
    {
     "name": "stdout",
     "output_type": "stream",
     "text": [
      "eval psnr: 29.33\n"
     ]
    },
    {
     "name": "stderr",
     "output_type": "stream",
     "text": [
      "epoch: 247/399: 100%|█████████████████████████████████████████████████| 80/80 [00:00<00:00, 5318.50it/s, loss=0.001277]\n"
     ]
    },
    {
     "name": "stdout",
     "output_type": "stream",
     "text": [
      "eval psnr: 29.33\n"
     ]
    },
    {
     "name": "stderr",
     "output_type": "stream",
     "text": [
      "epoch: 248/399: 100%|█████████████████████████████████████████████████| 80/80 [00:00<00:00, 5470.15it/s, loss=0.001277]\n"
     ]
    },
    {
     "name": "stdout",
     "output_type": "stream",
     "text": [
      "eval psnr: 29.34\n"
     ]
    },
    {
     "name": "stderr",
     "output_type": "stream",
     "text": [
      "epoch: 249/399: 100%|█████████████████████████████████████████████████| 80/80 [00:00<00:00, 5551.33it/s, loss=0.001275]\n"
     ]
    },
    {
     "name": "stdout",
     "output_type": "stream",
     "text": [
      "eval psnr: 29.34\n"
     ]
    },
    {
     "name": "stderr",
     "output_type": "stream",
     "text": [
      "epoch: 250/399: 100%|█████████████████████████████████████████████████| 80/80 [00:00<00:00, 5018.39it/s, loss=0.001275]\n"
     ]
    },
    {
     "name": "stdout",
     "output_type": "stream",
     "text": [
      "eval psnr: 29.32\n"
     ]
    },
    {
     "name": "stderr",
     "output_type": "stream",
     "text": [
      "epoch: 251/399: 100%|█████████████████████████████████████████████████| 80/80 [00:00<00:00, 4468.74it/s, loss=0.001275]\n"
     ]
    },
    {
     "name": "stdout",
     "output_type": "stream",
     "text": [
      "eval psnr: 29.35\n"
     ]
    },
    {
     "name": "stderr",
     "output_type": "stream",
     "text": [
      "epoch: 252/399: 100%|█████████████████████████████████████████████████| 80/80 [00:00<00:00, 4785.15it/s, loss=0.001273]\n"
     ]
    },
    {
     "name": "stdout",
     "output_type": "stream",
     "text": [
      "eval psnr: 29.35\n"
     ]
    },
    {
     "name": "stderr",
     "output_type": "stream",
     "text": [
      "epoch: 253/399: 100%|█████████████████████████████████████████████████| 80/80 [00:00<00:00, 5435.85it/s, loss=0.001272]\n"
     ]
    },
    {
     "name": "stdout",
     "output_type": "stream",
     "text": [
      "eval psnr: 29.36\n"
     ]
    },
    {
     "name": "stderr",
     "output_type": "stream",
     "text": [
      "epoch: 254/399: 100%|█████████████████████████████████████████████████| 80/80 [00:00<00:00, 5804.16it/s, loss=0.001271]\n"
     ]
    },
    {
     "name": "stdout",
     "output_type": "stream",
     "text": [
      "eval psnr: 29.36\n"
     ]
    },
    {
     "name": "stderr",
     "output_type": "stream",
     "text": [
      "epoch: 255/399: 100%|█████████████████████████████████████████████████| 80/80 [00:00<00:00, 5525.55it/s, loss=0.001272]\n"
     ]
    },
    {
     "name": "stdout",
     "output_type": "stream",
     "text": [
      "eval psnr: 29.36\n"
     ]
    },
    {
     "name": "stderr",
     "output_type": "stream",
     "text": [
      "epoch: 256/399: 100%|█████████████████████████████████████████████████| 80/80 [00:00<00:00, 5558.41it/s, loss=0.001272]\n"
     ]
    },
    {
     "name": "stdout",
     "output_type": "stream",
     "text": [
      "eval psnr: 29.35\n"
     ]
    },
    {
     "name": "stderr",
     "output_type": "stream",
     "text": [
      "epoch: 257/399: 100%|█████████████████████████████████████████████████| 80/80 [00:00<00:00, 5553.81it/s, loss=0.001271]\n"
     ]
    },
    {
     "name": "stdout",
     "output_type": "stream",
     "text": [
      "eval psnr: 29.36\n"
     ]
    },
    {
     "name": "stderr",
     "output_type": "stream",
     "text": [
      "epoch: 258/399: 100%|█████████████████████████████████████████████████| 80/80 [00:00<00:00, 5439.02it/s, loss=0.001270]\n"
     ]
    },
    {
     "name": "stdout",
     "output_type": "stream",
     "text": [
      "eval psnr: 29.36\n"
     ]
    },
    {
     "name": "stderr",
     "output_type": "stream",
     "text": [
      "epoch: 259/399: 100%|█████████████████████████████████████████████████| 80/80 [00:00<00:00, 5499.01it/s, loss=0.001270]\n"
     ]
    },
    {
     "name": "stdout",
     "output_type": "stream",
     "text": [
      "eval psnr: 29.36\n"
     ]
    },
    {
     "name": "stderr",
     "output_type": "stream",
     "text": [
      "epoch: 260/399: 100%|█████████████████████████████████████████████████| 80/80 [00:00<00:00, 5600.71it/s, loss=0.001269]\n"
     ]
    },
    {
     "name": "stdout",
     "output_type": "stream",
     "text": [
      "eval psnr: 29.37\n"
     ]
    },
    {
     "name": "stderr",
     "output_type": "stream",
     "text": [
      "epoch: 261/399: 100%|█████████████████████████████████████████████████| 80/80 [00:00<00:00, 5597.72it/s, loss=0.001268]\n"
     ]
    },
    {
     "name": "stdout",
     "output_type": "stream",
     "text": [
      "eval psnr: 29.38\n"
     ]
    },
    {
     "name": "stderr",
     "output_type": "stream",
     "text": [
      "epoch: 262/399: 100%|█████████████████████████████████████████████████| 80/80 [00:00<00:00, 5782.46it/s, loss=0.001267]\n"
     ]
    },
    {
     "name": "stdout",
     "output_type": "stream",
     "text": [
      "eval psnr: 29.37\n"
     ]
    },
    {
     "name": "stderr",
     "output_type": "stream",
     "text": [
      "epoch: 263/399: 100%|█████████████████████████████████████████████████| 80/80 [00:00<00:00, 5322.64it/s, loss=0.001267]\n"
     ]
    },
    {
     "name": "stdout",
     "output_type": "stream",
     "text": [
      "eval psnr: 29.38\n"
     ]
    },
    {
     "name": "stderr",
     "output_type": "stream",
     "text": [
      "epoch: 264/399: 100%|█████████████████████████████████████████████████| 80/80 [00:00<00:00, 5455.03it/s, loss=0.001267]\n"
     ]
    },
    {
     "name": "stdout",
     "output_type": "stream",
     "text": [
      "eval psnr: 29.38\n"
     ]
    },
    {
     "name": "stderr",
     "output_type": "stream",
     "text": [
      "epoch: 265/399: 100%|█████████████████████████████████████████████████| 80/80 [00:00<00:00, 5723.18it/s, loss=0.001266]\n"
     ]
    },
    {
     "name": "stdout",
     "output_type": "stream",
     "text": [
      "eval psnr: 29.37\n"
     ]
    },
    {
     "name": "stderr",
     "output_type": "stream",
     "text": [
      "epoch: 266/399: 100%|█████████████████████████████████████████████████| 80/80 [00:00<00:00, 5704.30it/s, loss=0.001268]\n"
     ]
    },
    {
     "name": "stdout",
     "output_type": "stream",
     "text": [
      "eval psnr: 29.35\n"
     ]
    },
    {
     "name": "stderr",
     "output_type": "stream",
     "text": [
      "epoch: 267/399: 100%|█████████████████████████████████████████████████| 80/80 [00:00<00:00, 5620.60it/s, loss=0.001269]\n"
     ]
    },
    {
     "name": "stdout",
     "output_type": "stream",
     "text": [
      "eval psnr: 29.37\n"
     ]
    },
    {
     "name": "stderr",
     "output_type": "stream",
     "text": [
      "epoch: 268/399: 100%|█████████████████████████████████████████████████| 80/80 [00:00<00:00, 5563.75it/s, loss=0.001265]\n"
     ]
    },
    {
     "name": "stdout",
     "output_type": "stream",
     "text": [
      "eval psnr: 29.39\n"
     ]
    },
    {
     "name": "stderr",
     "output_type": "stream",
     "text": [
      "epoch: 269/399: 100%|█████████████████████████████████████████████████| 80/80 [00:00<00:00, 5281.67it/s, loss=0.001263]\n"
     ]
    },
    {
     "name": "stdout",
     "output_type": "stream",
     "text": [
      "eval psnr: 29.40\n"
     ]
    },
    {
     "name": "stderr",
     "output_type": "stream",
     "text": [
      "epoch: 270/399: 100%|█████████████████████████████████████████████████| 80/80 [00:00<00:00, 5580.31it/s, loss=0.001262]\n"
     ]
    },
    {
     "name": "stdout",
     "output_type": "stream",
     "text": [
      "eval psnr: 29.39\n"
     ]
    },
    {
     "name": "stderr",
     "output_type": "stream",
     "text": [
      "epoch: 271/399: 100%|█████████████████████████████████████████████████| 80/80 [00:00<00:00, 5739.04it/s, loss=0.001262]\n"
     ]
    },
    {
     "name": "stdout",
     "output_type": "stream",
     "text": [
      "eval psnr: 29.39\n"
     ]
    },
    {
     "name": "stderr",
     "output_type": "stream",
     "text": [
      "epoch: 272/399: 100%|█████████████████████████████████████████████████| 80/80 [00:00<00:00, 5419.44it/s, loss=0.001262]\n"
     ]
    },
    {
     "name": "stdout",
     "output_type": "stream",
     "text": [
      "eval psnr: 29.39\n"
     ]
    },
    {
     "name": "stderr",
     "output_type": "stream",
     "text": [
      "epoch: 273/399: 100%|█████████████████████████████████████████████████| 80/80 [00:00<00:00, 5655.27it/s, loss=0.001262]\n"
     ]
    },
    {
     "name": "stdout",
     "output_type": "stream",
     "text": [
      "eval psnr: 29.40\n"
     ]
    },
    {
     "name": "stderr",
     "output_type": "stream",
     "text": [
      "epoch: 274/399: 100%|█████████████████████████████████████████████████| 80/80 [00:00<00:00, 5579.76it/s, loss=0.001260]\n"
     ]
    },
    {
     "name": "stdout",
     "output_type": "stream",
     "text": [
      "eval psnr: 29.40\n"
     ]
    },
    {
     "name": "stderr",
     "output_type": "stream",
     "text": [
      "epoch: 275/399: 100%|█████████████████████████████████████████████████| 80/80 [00:00<00:00, 5281.00it/s, loss=0.001261]\n"
     ]
    },
    {
     "name": "stdout",
     "output_type": "stream",
     "text": [
      "eval psnr: 29.41\n"
     ]
    },
    {
     "name": "stderr",
     "output_type": "stream",
     "text": [
      "epoch: 276/399: 100%|█████████████████████████████████████████████████| 80/80 [00:00<00:00, 5468.72it/s, loss=0.001261]\n"
     ]
    },
    {
     "name": "stdout",
     "output_type": "stream",
     "text": [
      "eval psnr: 29.40\n"
     ]
    },
    {
     "name": "stderr",
     "output_type": "stream",
     "text": [
      "epoch: 277/399: 100%|█████████████████████████████████████████████████| 80/80 [00:00<00:00, 5606.70it/s, loss=0.001259]\n"
     ]
    },
    {
     "name": "stdout",
     "output_type": "stream",
     "text": [
      "eval psnr: 29.39\n"
     ]
    },
    {
     "name": "stderr",
     "output_type": "stream",
     "text": [
      "epoch: 278/399: 100%|█████████████████████████████████████████████████| 80/80 [00:00<00:00, 5347.23it/s, loss=0.001260]\n"
     ]
    },
    {
     "name": "stdout",
     "output_type": "stream",
     "text": [
      "eval psnr: 29.41\n"
     ]
    },
    {
     "name": "stderr",
     "output_type": "stream",
     "text": [
      "epoch: 279/399: 100%|█████████████████████████████████████████████████| 80/80 [00:00<00:00, 5317.41it/s, loss=0.001258]\n"
     ]
    },
    {
     "name": "stdout",
     "output_type": "stream",
     "text": [
      "eval psnr: 29.42\n"
     ]
    },
    {
     "name": "stderr",
     "output_type": "stream",
     "text": [
      "epoch: 280/399: 100%|█████████████████████████████████████████████████| 80/80 [00:00<00:00, 5793.14it/s, loss=0.001258]\n"
     ]
    },
    {
     "name": "stdout",
     "output_type": "stream",
     "text": [
      "eval psnr: 29.42\n"
     ]
    },
    {
     "name": "stderr",
     "output_type": "stream",
     "text": [
      "epoch: 281/399: 100%|█████████████████████████████████████████████████| 80/80 [00:00<00:00, 5295.59it/s, loss=0.001257]\n"
     ]
    },
    {
     "name": "stdout",
     "output_type": "stream",
     "text": [
      "eval psnr: 29.41\n"
     ]
    },
    {
     "name": "stderr",
     "output_type": "stream",
     "text": [
      "epoch: 282/399: 100%|█████████████████████████████████████████████████| 80/80 [00:00<00:00, 5173.60it/s, loss=0.001256]\n"
     ]
    },
    {
     "name": "stdout",
     "output_type": "stream",
     "text": [
      "eval psnr: 29.42\n"
     ]
    },
    {
     "name": "stderr",
     "output_type": "stream",
     "text": [
      "epoch: 283/399: 100%|█████████████████████████████████████████████████| 80/80 [00:00<00:00, 5425.31it/s, loss=0.001256]\n"
     ]
    },
    {
     "name": "stdout",
     "output_type": "stream",
     "text": [
      "eval psnr: 29.42\n"
     ]
    },
    {
     "name": "stderr",
     "output_type": "stream",
     "text": [
      "epoch: 284/399: 100%|█████████████████████████████████████████████████| 80/80 [00:00<00:00, 5452.55it/s, loss=0.001260]\n"
     ]
    },
    {
     "name": "stdout",
     "output_type": "stream",
     "text": [
      "eval psnr: 29.42\n"
     ]
    },
    {
     "name": "stderr",
     "output_type": "stream",
     "text": [
      "epoch: 285/399: 100%|█████████████████████████████████████████████████| 80/80 [00:00<00:00, 5597.35it/s, loss=0.001260]\n"
     ]
    },
    {
     "name": "stdout",
     "output_type": "stream",
     "text": [
      "eval psnr: 29.39\n"
     ]
    },
    {
     "name": "stderr",
     "output_type": "stream",
     "text": [
      "epoch: 286/399: 100%|█████████████████████████████████████████████████| 80/80 [00:00<00:00, 5714.02it/s, loss=0.001263]\n"
     ]
    },
    {
     "name": "stdout",
     "output_type": "stream",
     "text": [
      "eval psnr: 29.41\n"
     ]
    },
    {
     "name": "stderr",
     "output_type": "stream",
     "text": [
      "epoch: 287/399: 100%|█████████████████████████████████████████████████| 80/80 [00:00<00:00, 5290.16it/s, loss=0.001265]\n"
     ]
    },
    {
     "name": "stdout",
     "output_type": "stream",
     "text": [
      "eval psnr: 29.44\n"
     ]
    },
    {
     "name": "stderr",
     "output_type": "stream",
     "text": [
      "epoch: 288/399: 100%|█████████████████████████████████████████████████| 80/80 [00:00<00:00, 5172.49it/s, loss=0.001271]\n"
     ]
    },
    {
     "name": "stdout",
     "output_type": "stream",
     "text": [
      "eval psnr: 29.33\n"
     ]
    },
    {
     "name": "stderr",
     "output_type": "stream",
     "text": [
      "epoch: 289/399: 100%|█████████████████████████████████████████████████| 80/80 [00:00<00:00, 5457.69it/s, loss=0.001287]\n"
     ]
    },
    {
     "name": "stdout",
     "output_type": "stream",
     "text": [
      "eval psnr: 29.35\n"
     ]
    },
    {
     "name": "stderr",
     "output_type": "stream",
     "text": [
      "epoch: 290/399: 100%|█████████████████████████████████████████████████| 80/80 [00:00<00:00, 5436.73it/s, loss=0.001295]\n"
     ]
    },
    {
     "name": "stdout",
     "output_type": "stream",
     "text": [
      "eval psnr: 29.27\n"
     ]
    },
    {
     "name": "stderr",
     "output_type": "stream",
     "text": [
      "epoch: 291/399: 100%|█████████████████████████████████████████████████| 80/80 [00:00<00:00, 5734.72it/s, loss=0.001286]\n"
     ]
    },
    {
     "name": "stdout",
     "output_type": "stream",
     "text": [
      "eval psnr: 29.06\n"
     ]
    },
    {
     "name": "stderr",
     "output_type": "stream",
     "text": [
      "epoch: 292/399: 100%|█████████████████████████████████████████████████| 80/80 [00:00<00:00, 5572.25it/s, loss=0.001321]\n"
     ]
    },
    {
     "name": "stdout",
     "output_type": "stream",
     "text": [
      "eval psnr: 28.98\n"
     ]
    },
    {
     "name": "stderr",
     "output_type": "stream",
     "text": [
      "epoch: 293/399: 100%|█████████████████████████████████████████████████| 80/80 [00:00<00:00, 5461.96it/s, loss=0.001294]\n"
     ]
    },
    {
     "name": "stdout",
     "output_type": "stream",
     "text": [
      "eval psnr: 29.32\n"
     ]
    },
    {
     "name": "stderr",
     "output_type": "stream",
     "text": [
      "epoch: 294/399: 100%|█████████████████████████████████████████████████| 80/80 [00:00<00:00, 5477.92it/s, loss=0.001275]\n"
     ]
    },
    {
     "name": "stdout",
     "output_type": "stream",
     "text": [
      "eval psnr: 29.30\n"
     ]
    },
    {
     "name": "stderr",
     "output_type": "stream",
     "text": [
      "epoch: 295/399: 100%|█████████████████████████████████████████████████| 80/80 [00:00<00:00, 5704.01it/s, loss=0.001272]"
     ]
    },
    {
     "name": "stdout",
     "output_type": "stream",
     "text": [
      "eval psnr: 29.29"
     ]
    },
    {
     "name": "stderr",
     "output_type": "stream",
     "text": [
      "\n"
     ]
    },
    {
     "name": "stdout",
     "output_type": "stream",
     "text": [
      "\n"
     ]
    },
    {
     "name": "stderr",
     "output_type": "stream",
     "text": [
      "epoch: 296/399: 100%|█████████████████████████████████████████████████| 80/80 [00:00<00:00, 5190.25it/s, loss=0.001283]\n"
     ]
    },
    {
     "name": "stdout",
     "output_type": "stream",
     "text": [
      "eval psnr: 29.10\n"
     ]
    },
    {
     "name": "stderr",
     "output_type": "stream",
     "text": [
      "epoch: 297/399: 100%|█████████████████████████████████████████████████| 80/80 [00:00<00:00, 5643.00it/s, loss=0.001297]\n"
     ]
    },
    {
     "name": "stdout",
     "output_type": "stream",
     "text": [
      "eval psnr: 29.07\n"
     ]
    },
    {
     "name": "stderr",
     "output_type": "stream",
     "text": [
      "epoch: 298/399: 100%|█████████████████████████████████████████████████| 80/80 [00:00<00:00, 5821.48it/s, loss=0.001314]\n"
     ]
    },
    {
     "name": "stdout",
     "output_type": "stream",
     "text": [
      "eval psnr: 29.32\n"
     ]
    },
    {
     "name": "stderr",
     "output_type": "stream",
     "text": [
      "epoch: 299/399: 100%|█████████████████████████████████████████████████| 80/80 [00:00<00:00, 5207.57it/s, loss=0.001277]\n"
     ]
    },
    {
     "name": "stdout",
     "output_type": "stream",
     "text": [
      "eval psnr: 29.45\n"
     ]
    },
    {
     "name": "stderr",
     "output_type": "stream",
     "text": [
      "epoch: 300/399: 100%|█████████████████████████████████████████████████| 80/80 [00:00<00:00, 5284.75it/s, loss=0.001266]\n"
     ]
    },
    {
     "name": "stdout",
     "output_type": "stream",
     "text": [
      "eval psnr: 29.41\n"
     ]
    },
    {
     "name": "stderr",
     "output_type": "stream",
     "text": [
      "epoch: 301/399: 100%|█████████████████████████████████████████████████| 80/80 [00:00<00:00, 5620.04it/s, loss=0.001259]\n"
     ]
    },
    {
     "name": "stdout",
     "output_type": "stream",
     "text": [
      "eval psnr: 29.41\n"
     ]
    },
    {
     "name": "stderr",
     "output_type": "stream",
     "text": [
      "epoch: 302/399: 100%|█████████████████████████████████████████████████| 80/80 [00:00<00:00, 5652.80it/s, loss=0.001257]\n"
     ]
    },
    {
     "name": "stdout",
     "output_type": "stream",
     "text": [
      "eval psnr: 29.40\n"
     ]
    },
    {
     "name": "stderr",
     "output_type": "stream",
     "text": [
      "epoch: 303/399: 100%|█████████████████████████████████████████████████| 80/80 [00:00<00:00, 5509.13it/s, loss=0.001254]\n"
     ]
    },
    {
     "name": "stdout",
     "output_type": "stream",
     "text": [
      "eval psnr: 29.43\n"
     ]
    },
    {
     "name": "stderr",
     "output_type": "stream",
     "text": [
      "epoch: 304/399: 100%|█████████████████████████████████████████████████| 80/80 [00:00<00:00, 5114.54it/s, loss=0.001252]\n"
     ]
    },
    {
     "name": "stdout",
     "output_type": "stream",
     "text": [
      "eval psnr: 29.44\n"
     ]
    },
    {
     "name": "stderr",
     "output_type": "stream",
     "text": [
      "epoch: 305/399: 100%|█████████████████████████████████████████████████| 80/80 [00:00<00:00, 4928.53it/s, loss=0.001250]\n"
     ]
    },
    {
     "name": "stdout",
     "output_type": "stream",
     "text": [
      "eval psnr: 29.46\n"
     ]
    },
    {
     "name": "stderr",
     "output_type": "stream",
     "text": [
      "epoch: 306/399: 100%|█████████████████████████████████████████████████| 80/80 [00:00<00:00, 5501.72it/s, loss=0.001246]\n"
     ]
    },
    {
     "name": "stdout",
     "output_type": "stream",
     "text": [
      "eval psnr: 29.46\n"
     ]
    },
    {
     "name": "stderr",
     "output_type": "stream",
     "text": [
      "epoch: 307/399: 100%|█████████████████████████████████████████████████| 80/80 [00:00<00:00, 5728.55it/s, loss=0.001246]\n"
     ]
    },
    {
     "name": "stdout",
     "output_type": "stream",
     "text": [
      "eval psnr: 29.46\n"
     ]
    },
    {
     "name": "stderr",
     "output_type": "stream",
     "text": [
      "epoch: 308/399: 100%|█████████████████████████████████████████████████| 80/80 [00:00<00:00, 5629.84it/s, loss=0.001247]\n"
     ]
    },
    {
     "name": "stdout",
     "output_type": "stream",
     "text": [
      "eval psnr: 29.46\n"
     ]
    },
    {
     "name": "stderr",
     "output_type": "stream",
     "text": [
      "epoch: 309/399: 100%|█████████████████████████████████████████████████| 80/80 [00:00<00:00, 5318.25it/s, loss=0.001248]\n"
     ]
    },
    {
     "name": "stdout",
     "output_type": "stream",
     "text": [
      "eval psnr: 29.47\n"
     ]
    },
    {
     "name": "stderr",
     "output_type": "stream",
     "text": [
      "epoch: 310/399: 100%|█████████████████████████████████████████████████| 80/80 [00:00<00:00, 5535.94it/s, loss=0.001245]\n"
     ]
    },
    {
     "name": "stdout",
     "output_type": "stream",
     "text": [
      "eval psnr: 29.47\n"
     ]
    },
    {
     "name": "stderr",
     "output_type": "stream",
     "text": [
      "epoch: 311/399: 100%|█████████████████████████████████████████████████| 80/80 [00:00<00:00, 5571.70it/s, loss=0.001244]\n"
     ]
    },
    {
     "name": "stdout",
     "output_type": "stream",
     "text": [
      "eval psnr: 29.48\n"
     ]
    },
    {
     "name": "stderr",
     "output_type": "stream",
     "text": [
      "epoch: 312/399: 100%|█████████████████████████████████████████████████| 80/80 [00:00<00:00, 5417.51it/s, loss=0.001243]\n"
     ]
    },
    {
     "name": "stdout",
     "output_type": "stream",
     "text": [
      "eval psnr: 29.48\n"
     ]
    },
    {
     "name": "stderr",
     "output_type": "stream",
     "text": [
      "epoch: 313/399: 100%|█████████████████████████████████████████████████| 80/80 [00:00<00:00, 5510.21it/s, loss=0.001243]\n"
     ]
    },
    {
     "name": "stdout",
     "output_type": "stream",
     "text": [
      "eval psnr: 29.48\n"
     ]
    },
    {
     "name": "stderr",
     "output_type": "stream",
     "text": [
      "epoch: 314/399: 100%|█████████████████████████████████████████████████| 80/80 [00:00<00:00, 5347.15it/s, loss=0.001242]\n"
     ]
    },
    {
     "name": "stdout",
     "output_type": "stream",
     "text": [
      "eval psnr: 29.49\n"
     ]
    },
    {
     "name": "stderr",
     "output_type": "stream",
     "text": [
      "epoch: 315/399: 100%|█████████████████████████████████████████████████| 80/80 [00:00<00:00, 5723.96it/s, loss=0.001242]\n"
     ]
    },
    {
     "name": "stdout",
     "output_type": "stream",
     "text": [
      "eval psnr: 29.48\n"
     ]
    },
    {
     "name": "stderr",
     "output_type": "stream",
     "text": [
      "epoch: 316/399: 100%|█████████████████████████████████████████████████| 80/80 [00:00<00:00, 5554.73it/s, loss=0.001242]\n"
     ]
    },
    {
     "name": "stdout",
     "output_type": "stream",
     "text": [
      "eval psnr: 29.49\n"
     ]
    },
    {
     "name": "stderr",
     "output_type": "stream",
     "text": [
      "epoch: 317/399: 100%|█████████████████████████████████████████████████| 80/80 [00:00<00:00, 5632.30it/s, loss=0.001242]\n"
     ]
    },
    {
     "name": "stdout",
     "output_type": "stream",
     "text": [
      "eval psnr: 29.48\n"
     ]
    },
    {
     "name": "stderr",
     "output_type": "stream",
     "text": [
      "epoch: 318/399: 100%|█████████████████████████████████████████████████| 80/80 [00:00<00:00, 5600.15it/s, loss=0.001242]\n"
     ]
    },
    {
     "name": "stdout",
     "output_type": "stream",
     "text": [
      "eval psnr: 29.48\n"
     ]
    },
    {
     "name": "stderr",
     "output_type": "stream",
     "text": [
      "epoch: 319/399: 100%|█████████████████████████████████████████████████| 80/80 [00:00<00:00, 5652.22it/s, loss=0.001241]\n"
     ]
    },
    {
     "name": "stdout",
     "output_type": "stream",
     "text": [
      "eval psnr: 29.49\n"
     ]
    },
    {
     "name": "stderr",
     "output_type": "stream",
     "text": [
      "epoch: 320/399: 100%|█████████████████████████████████████████████████| 80/80 [00:00<00:00, 5196.60it/s, loss=0.001241]\n"
     ]
    },
    {
     "name": "stdout",
     "output_type": "stream",
     "text": [
      "eval psnr: 29.49\n"
     ]
    },
    {
     "name": "stderr",
     "output_type": "stream",
     "text": [
      "epoch: 321/399: 100%|█████████████████████████████████████████████████| 80/80 [00:00<00:00, 5624.84it/s, loss=0.001240]\n"
     ]
    },
    {
     "name": "stdout",
     "output_type": "stream",
     "text": [
      "eval psnr: 29.49\n"
     ]
    },
    {
     "name": "stderr",
     "output_type": "stream",
     "text": [
      "epoch: 322/399: 100%|█████████████████████████████████████████████████| 80/80 [00:00<00:00, 5764.18it/s, loss=0.001240]\n"
     ]
    },
    {
     "name": "stdout",
     "output_type": "stream",
     "text": [
      "eval psnr: 29.49\n"
     ]
    },
    {
     "name": "stderr",
     "output_type": "stream",
     "text": [
      "epoch: 323/399: 100%|█████████████████████████████████████████████████| 80/80 [00:00<00:00, 5632.77it/s, loss=0.001240]\n"
     ]
    },
    {
     "name": "stdout",
     "output_type": "stream",
     "text": [
      "eval psnr: 29.50\n"
     ]
    },
    {
     "name": "stderr",
     "output_type": "stream",
     "text": [
      "epoch: 324/399: 100%|█████████████████████████████████████████████████| 80/80 [00:00<00:00, 5637.69it/s, loss=0.001241]\n"
     ]
    },
    {
     "name": "stdout",
     "output_type": "stream",
     "text": [
      "eval psnr: 29.50\n"
     ]
    },
    {
     "name": "stderr",
     "output_type": "stream",
     "text": [
      "epoch: 325/399: 100%|█████████████████████████████████████████████████| 80/80 [00:00<00:00, 5573.73it/s, loss=0.001240]\n"
     ]
    },
    {
     "name": "stdout",
     "output_type": "stream",
     "text": [
      "eval psnr: 29.50\n"
     ]
    },
    {
     "name": "stderr",
     "output_type": "stream",
     "text": [
      "epoch: 326/399: 100%|█████████████████████████████████████████████████| 80/80 [00:00<00:00, 5622.67it/s, loss=0.001241]\n"
     ]
    },
    {
     "name": "stdout",
     "output_type": "stream",
     "text": [
      "eval psnr: 29.50\n"
     ]
    },
    {
     "name": "stderr",
     "output_type": "stream",
     "text": [
      "epoch: 327/399: 100%|█████████████████████████████████████████████████| 80/80 [00:00<00:00, 5503.43it/s, loss=0.001240]\n"
     ]
    },
    {
     "name": "stdout",
     "output_type": "stream",
     "text": [
      "eval psnr: 29.48\n"
     ]
    },
    {
     "name": "stderr",
     "output_type": "stream",
     "text": [
      "epoch: 328/399: 100%|█████████████████████████████████████████████████| 80/80 [00:00<00:00, 5552.15it/s, loss=0.001242]\n"
     ]
    },
    {
     "name": "stdout",
     "output_type": "stream",
     "text": [
      "eval psnr: 29.47\n"
     ]
    },
    {
     "name": "stderr",
     "output_type": "stream",
     "text": [
      "epoch: 329/399: 100%|█████████████████████████████████████████████████| 80/80 [00:00<00:00, 5525.46it/s, loss=0.001242]\n"
     ]
    },
    {
     "name": "stdout",
     "output_type": "stream",
     "text": [
      "eval psnr: 29.50\n"
     ]
    },
    {
     "name": "stderr",
     "output_type": "stream",
     "text": [
      "epoch: 330/399: 100%|█████████████████████████████████████████████████| 80/80 [00:00<00:00, 5697.43it/s, loss=0.001240]\n"
     ]
    },
    {
     "name": "stdout",
     "output_type": "stream",
     "text": [
      "eval psnr: 29.51\n"
     ]
    },
    {
     "name": "stderr",
     "output_type": "stream",
     "text": [
      "epoch: 331/399: 100%|█████████████████████████████████████████████████| 80/80 [00:00<00:00, 4866.49it/s, loss=0.001237]\n"
     ]
    },
    {
     "name": "stdout",
     "output_type": "stream",
     "text": [
      "eval psnr: 29.50\n"
     ]
    },
    {
     "name": "stderr",
     "output_type": "stream",
     "text": [
      "epoch: 332/399: 100%|█████████████████████████████████████████████████| 80/80 [00:00<00:00, 5623.15it/s, loss=0.001237]\n"
     ]
    },
    {
     "name": "stdout",
     "output_type": "stream",
     "text": [
      "eval psnr: 29.51\n"
     ]
    },
    {
     "name": "stderr",
     "output_type": "stream",
     "text": [
      "epoch: 333/399: 100%|█████████████████████████████████████████████████| 80/80 [00:00<00:00, 5649.66it/s, loss=0.001236]\n"
     ]
    },
    {
     "name": "stdout",
     "output_type": "stream",
     "text": [
      "eval psnr: 29.52\n"
     ]
    },
    {
     "name": "stderr",
     "output_type": "stream",
     "text": [
      "epoch: 334/399: 100%|█████████████████████████████████████████████████| 80/80 [00:00<00:00, 5203.45it/s, loss=0.001238]\n"
     ]
    },
    {
     "name": "stdout",
     "output_type": "stream",
     "text": [
      "eval psnr: 29.51\n"
     ]
    },
    {
     "name": "stderr",
     "output_type": "stream",
     "text": [
      "epoch: 335/399: 100%|█████████████████████████████████████████████████| 80/80 [00:00<00:00, 5492.80it/s, loss=0.001236]\n"
     ]
    },
    {
     "name": "stdout",
     "output_type": "stream",
     "text": [
      "eval psnr: 29.50\n"
     ]
    },
    {
     "name": "stderr",
     "output_type": "stream",
     "text": [
      "epoch: 336/399: 100%|█████████████████████████████████████████████████| 80/80 [00:00<00:00, 5616.56it/s, loss=0.001239]\n"
     ]
    },
    {
     "name": "stdout",
     "output_type": "stream",
     "text": [
      "eval psnr: 29.51\n"
     ]
    },
    {
     "name": "stderr",
     "output_type": "stream",
     "text": [
      "epoch: 337/399: 100%|█████████████████████████████████████████████████| 80/80 [00:00<00:00, 5343.32it/s, loss=0.001239]\n"
     ]
    },
    {
     "name": "stdout",
     "output_type": "stream",
     "text": [
      "eval psnr: 29.46\n"
     ]
    },
    {
     "name": "stderr",
     "output_type": "stream",
     "text": [
      "epoch: 338/399: 100%|█████████████████████████████████████████████████| 80/80 [00:00<00:00, 5503.43it/s, loss=0.001244]\n"
     ]
    },
    {
     "name": "stdout",
     "output_type": "stream",
     "text": [
      "eval psnr: 29.51\n"
     ]
    },
    {
     "name": "stderr",
     "output_type": "stream",
     "text": [
      "epoch: 339/399: 100%|█████████████████████████████████████████████████| 80/80 [00:00<00:00, 5338.56it/s, loss=0.001235]\n"
     ]
    },
    {
     "name": "stdout",
     "output_type": "stream",
     "text": [
      "eval psnr: 29.53\n"
     ]
    },
    {
     "name": "stderr",
     "output_type": "stream",
     "text": [
      "epoch: 340/399: 100%|█████████████████████████████████████████████████| 80/80 [00:00<00:00, 5225.24it/s, loss=0.001233]\n"
     ]
    },
    {
     "name": "stdout",
     "output_type": "stream",
     "text": [
      "eval psnr: 29.52\n"
     ]
    },
    {
     "name": "stderr",
     "output_type": "stream",
     "text": [
      "epoch: 341/399: 100%|█████████████████████████████████████████████████| 80/80 [00:00<00:00, 5496.58it/s, loss=0.001233]\n"
     ]
    },
    {
     "name": "stdout",
     "output_type": "stream",
     "text": [
      "eval psnr: 29.52\n"
     ]
    },
    {
     "name": "stderr",
     "output_type": "stream",
     "text": [
      "epoch: 342/399: 100%|█████████████████████████████████████████████████| 80/80 [00:00<00:00, 5531.65it/s, loss=0.001233]\n"
     ]
    },
    {
     "name": "stdout",
     "output_type": "stream",
     "text": [
      "eval psnr: 29.53\n"
     ]
    },
    {
     "name": "stderr",
     "output_type": "stream",
     "text": [
      "epoch: 343/399: 100%|█████████████████████████████████████████████████| 80/80 [00:00<00:00, 5507.68it/s, loss=0.001233]\n"
     ]
    },
    {
     "name": "stdout",
     "output_type": "stream",
     "text": [
      "eval psnr: 29.52\n"
     ]
    },
    {
     "name": "stderr",
     "output_type": "stream",
     "text": [
      "epoch: 344/399: 100%|█████████████████████████████████████████████████| 80/80 [00:00<00:00, 5828.76it/s, loss=0.001233]\n"
     ]
    },
    {
     "name": "stdout",
     "output_type": "stream",
     "text": [
      "eval psnr: 29.52\n"
     ]
    },
    {
     "name": "stderr",
     "output_type": "stream",
     "text": [
      "epoch: 345/399: 100%|█████████████████████████████████████████████████| 80/80 [00:00<00:00, 5397.21it/s, loss=0.001232]\n"
     ]
    },
    {
     "name": "stdout",
     "output_type": "stream",
     "text": [
      "eval psnr: 29.53\n"
     ]
    },
    {
     "name": "stderr",
     "output_type": "stream",
     "text": [
      "epoch: 346/399: 100%|█████████████████████████████████████████████████| 80/80 [00:00<00:00, 5670.66it/s, loss=0.001231]\n"
     ]
    },
    {
     "name": "stdout",
     "output_type": "stream",
     "text": [
      "eval psnr: 29.54\n"
     ]
    },
    {
     "name": "stderr",
     "output_type": "stream",
     "text": [
      "epoch: 347/399: 100%|█████████████████████████████████████████████████| 80/80 [00:00<00:00, 5719.38it/s, loss=0.001231]\n"
     ]
    },
    {
     "name": "stdout",
     "output_type": "stream",
     "text": [
      "eval psnr: 29.54\n"
     ]
    },
    {
     "name": "stderr",
     "output_type": "stream",
     "text": [
      "epoch: 348/399: 100%|█████████████████████████████████████████████████| 80/80 [00:00<00:00, 5026.88it/s, loss=0.001230]\n"
     ]
    },
    {
     "name": "stdout",
     "output_type": "stream",
     "text": [
      "eval psnr: 29.54\n"
     ]
    },
    {
     "name": "stderr",
     "output_type": "stream",
     "text": [
      "epoch: 349/399: 100%|█████████████████████████████████████████████████| 80/80 [00:00<00:00, 5546.37it/s, loss=0.001230]\n"
     ]
    },
    {
     "name": "stdout",
     "output_type": "stream",
     "text": [
      "eval psnr: 29.54\n"
     ]
    },
    {
     "name": "stderr",
     "output_type": "stream",
     "text": [
      "epoch: 350/399: 100%|█████████████████████████████████████████████████| 80/80 [00:00<00:00, 5645.09it/s, loss=0.001230]\n"
     ]
    },
    {
     "name": "stdout",
     "output_type": "stream",
     "text": [
      "eval psnr: 29.54\n"
     ]
    },
    {
     "name": "stderr",
     "output_type": "stream",
     "text": [
      "epoch: 351/399: 100%|█████████████████████████████████████████████████| 80/80 [00:00<00:00, 5744.93it/s, loss=0.001230]\n"
     ]
    },
    {
     "name": "stdout",
     "output_type": "stream",
     "text": [
      "eval psnr: 29.53\n"
     ]
    },
    {
     "name": "stderr",
     "output_type": "stream",
     "text": [
      "epoch: 352/399: 100%|█████████████████████████████████████████████████| 80/80 [00:00<00:00, 5416.29it/s, loss=0.001232]\n"
     ]
    },
    {
     "name": "stdout",
     "output_type": "stream",
     "text": [
      "eval psnr: 29.51\n"
     ]
    },
    {
     "name": "stderr",
     "output_type": "stream",
     "text": [
      "epoch: 353/399: 100%|█████████████████████████████████████████████████| 80/80 [00:00<00:00, 5265.67it/s, loss=0.001233]\n"
     ]
    },
    {
     "name": "stdout",
     "output_type": "stream",
     "text": [
      "eval psnr: 29.54\n"
     ]
    },
    {
     "name": "stderr",
     "output_type": "stream",
     "text": [
      "epoch: 354/399: 100%|█████████████████████████████████████████████████| 80/80 [00:00<00:00, 5520.55it/s, loss=0.001230]\n"
     ]
    },
    {
     "name": "stdout",
     "output_type": "stream",
     "text": [
      "eval psnr: 29.54\n"
     ]
    },
    {
     "name": "stderr",
     "output_type": "stream",
     "text": [
      "epoch: 355/399: 100%|█████████████████████████████████████████████████| 80/80 [00:00<00:00, 5532.01it/s, loss=0.001230]\n"
     ]
    },
    {
     "name": "stdout",
     "output_type": "stream",
     "text": [
      "eval psnr: 29.55\n"
     ]
    },
    {
     "name": "stderr",
     "output_type": "stream",
     "text": [
      "epoch: 356/399: 100%|█████████████████████████████████████████████████| 80/80 [00:00<00:00, 5278.26it/s, loss=0.001228]\n"
     ]
    },
    {
     "name": "stdout",
     "output_type": "stream",
     "text": [
      "eval psnr: 29.55\n"
     ]
    },
    {
     "name": "stderr",
     "output_type": "stream",
     "text": [
      "epoch: 357/399: 100%|█████████████████████████████████████████████████| 80/80 [00:00<00:00, 4455.69it/s, loss=0.001228]\n"
     ]
    },
    {
     "name": "stdout",
     "output_type": "stream",
     "text": [
      "eval psnr: 29.54\n"
     ]
    },
    {
     "name": "stderr",
     "output_type": "stream",
     "text": [
      "epoch: 358/399: 100%|█████████████████████████████████████████████████| 80/80 [00:00<00:00, 5191.69it/s, loss=0.001232]\n"
     ]
    },
    {
     "name": "stdout",
     "output_type": "stream",
     "text": [
      "eval psnr: 29.55\n"
     ]
    },
    {
     "name": "stderr",
     "output_type": "stream",
     "text": [
      "epoch: 359/399: 100%|█████████████████████████████████████████████████| 80/80 [00:00<00:00, 5442.82it/s, loss=0.001238]\n"
     ]
    },
    {
     "name": "stdout",
     "output_type": "stream",
     "text": [
      "eval psnr: 29.56\n"
     ]
    },
    {
     "name": "stderr",
     "output_type": "stream",
     "text": [
      "epoch: 360/399: 100%|█████████████████████████████████████████████████| 80/80 [00:00<00:00, 4433.78it/s, loss=0.001237]\n"
     ]
    },
    {
     "name": "stdout",
     "output_type": "stream",
     "text": [
      "eval psnr: 29.42\n"
     ]
    },
    {
     "name": "stderr",
     "output_type": "stream",
     "text": [
      "epoch: 361/399: 100%|█████████████████████████████████████████████████| 80/80 [00:00<00:00, 4899.17it/s, loss=0.001237]\n"
     ]
    },
    {
     "name": "stdout",
     "output_type": "stream",
     "text": [
      "eval psnr: 29.48\n"
     ]
    },
    {
     "name": "stderr",
     "output_type": "stream",
     "text": [
      "epoch: 362/399: 100%|█████████████████████████████████████████████████| 80/80 [00:00<00:00, 5409.04it/s, loss=0.001239]\n"
     ]
    },
    {
     "name": "stdout",
     "output_type": "stream",
     "text": [
      "eval psnr: 29.52\n"
     ]
    },
    {
     "name": "stderr",
     "output_type": "stream",
     "text": [
      "epoch: 363/399: 100%|█████████████████████████████████████████████████| 80/80 [00:00<00:00, 5203.53it/s, loss=0.001258]\n"
     ]
    },
    {
     "name": "stdout",
     "output_type": "stream",
     "text": [
      "eval psnr: 29.19\n"
     ]
    },
    {
     "name": "stderr",
     "output_type": "stream",
     "text": [
      "epoch: 364/399: 100%|█████████████████████████████████████████████████| 80/80 [00:00<00:00, 5477.74it/s, loss=0.001292]\n"
     ]
    },
    {
     "name": "stdout",
     "output_type": "stream",
     "text": [
      "eval psnr: 29.19\n"
     ]
    },
    {
     "name": "stderr",
     "output_type": "stream",
     "text": [
      "epoch: 365/399: 100%|█████████████████████████████████████████████████| 80/80 [00:00<00:00, 5327.62it/s, loss=0.001294]\n"
     ]
    },
    {
     "name": "stdout",
     "output_type": "stream",
     "text": [
      "eval psnr: 29.12\n"
     ]
    },
    {
     "name": "stderr",
     "output_type": "stream",
     "text": [
      "epoch: 366/399: 100%|█████████████████████████████████████████████████| 80/80 [00:00<00:00, 5407.99it/s, loss=0.001280]\n"
     ]
    },
    {
     "name": "stdout",
     "output_type": "stream",
     "text": [
      "eval psnr: 29.43\n"
     ]
    },
    {
     "name": "stderr",
     "output_type": "stream",
     "text": [
      "epoch: 367/399: 100%|█████████████████████████████████████████████████| 80/80 [00:00<00:00, 5743.65it/s, loss=0.001243]\n"
     ]
    },
    {
     "name": "stdout",
     "output_type": "stream",
     "text": [
      "eval psnr: 29.43\n"
     ]
    },
    {
     "name": "stderr",
     "output_type": "stream",
     "text": [
      "epoch: 368/399: 100%|█████████████████████████████████████████████████| 80/80 [00:00<00:00, 5601.46it/s, loss=0.001239]\n"
     ]
    },
    {
     "name": "stdout",
     "output_type": "stream",
     "text": [
      "eval psnr: 29.54\n"
     ]
    },
    {
     "name": "stderr",
     "output_type": "stream",
     "text": [
      "epoch: 369/399: 100%|█████████████████████████████████████████████████| 80/80 [00:00<00:00, 5574.10it/s, loss=0.001230]\n"
     ]
    },
    {
     "name": "stdout",
     "output_type": "stream",
     "text": [
      "eval psnr: 29.57\n"
     ]
    },
    {
     "name": "stderr",
     "output_type": "stream",
     "text": [
      "epoch: 370/399: 100%|█████████████████████████████████████████████████| 80/80 [00:00<00:00, 5527.28it/s, loss=0.001226]\n"
     ]
    },
    {
     "name": "stdout",
     "output_type": "stream",
     "text": [
      "eval psnr: 29.57\n"
     ]
    },
    {
     "name": "stderr",
     "output_type": "stream",
     "text": [
      "epoch: 371/399: 100%|█████████████████████████████████████████████████| 80/80 [00:00<00:00, 5254.37it/s, loss=0.001225]\n"
     ]
    },
    {
     "name": "stdout",
     "output_type": "stream",
     "text": [
      "eval psnr: 29.57\n"
     ]
    },
    {
     "name": "stderr",
     "output_type": "stream",
     "text": [
      "epoch: 372/399: 100%|█████████████████████████████████████████████████| 80/80 [00:00<00:00, 5072.71it/s, loss=0.001223]\n"
     ]
    },
    {
     "name": "stdout",
     "output_type": "stream",
     "text": [
      "eval psnr: 29.57\n"
     ]
    },
    {
     "name": "stderr",
     "output_type": "stream",
     "text": [
      "epoch: 373/399: 100%|█████████████████████████████████████████████████| 80/80 [00:00<00:00, 5477.11it/s, loss=0.001224]\n"
     ]
    },
    {
     "name": "stdout",
     "output_type": "stream",
     "text": [
      "eval psnr: 29.56\n"
     ]
    },
    {
     "name": "stderr",
     "output_type": "stream",
     "text": [
      "epoch: 374/399: 100%|█████████████████████████████████████████████████| 80/80 [00:00<00:00, 5488.13it/s, loss=0.001226]\n"
     ]
    },
    {
     "name": "stdout",
     "output_type": "stream",
     "text": [
      "eval psnr: 29.56\n"
     ]
    },
    {
     "name": "stderr",
     "output_type": "stream",
     "text": [
      "epoch: 375/399: 100%|█████████████████████████████████████████████████| 80/80 [00:00<00:00, 5569.29it/s, loss=0.001225]\n"
     ]
    },
    {
     "name": "stdout",
     "output_type": "stream",
     "text": [
      "eval psnr: 29.58\n"
     ]
    },
    {
     "name": "stderr",
     "output_type": "stream",
     "text": [
      "epoch: 376/399: 100%|█████████████████████████████████████████████████| 80/80 [00:00<00:00, 5565.78it/s, loss=0.001224]\n"
     ]
    },
    {
     "name": "stdout",
     "output_type": "stream",
     "text": [
      "eval psnr: 29.56\n"
     ]
    },
    {
     "name": "stderr",
     "output_type": "stream",
     "text": [
      "epoch: 377/399: 100%|█████████████████████████████████████████████████| 80/80 [00:00<00:00, 5751.04it/s, loss=0.001224]\n"
     ]
    },
    {
     "name": "stdout",
     "output_type": "stream",
     "text": [
      "eval psnr: 29.57\n"
     ]
    },
    {
     "name": "stderr",
     "output_type": "stream",
     "text": [
      "epoch: 378/399: 100%|█████████████████████████████████████████████████| 80/80 [00:00<00:00, 5181.59it/s, loss=0.001223]\n"
     ]
    },
    {
     "name": "stdout",
     "output_type": "stream",
     "text": [
      "eval psnr: 29.57\n"
     ]
    },
    {
     "name": "stderr",
     "output_type": "stream",
     "text": [
      "epoch: 379/399: 100%|█████████████████████████████████████████████████| 80/80 [00:00<00:00, 5358.59it/s, loss=0.001223]\n"
     ]
    },
    {
     "name": "stdout",
     "output_type": "stream",
     "text": [
      "eval psnr: 29.58\n"
     ]
    },
    {
     "name": "stderr",
     "output_type": "stream",
     "text": [
      "epoch: 380/399: 100%|█████████████████████████████████████████████████| 80/80 [00:00<00:00, 5137.64it/s, loss=0.001222]\n"
     ]
    },
    {
     "name": "stdout",
     "output_type": "stream",
     "text": [
      "eval psnr: 29.58\n"
     ]
    },
    {
     "name": "stderr",
     "output_type": "stream",
     "text": [
      "epoch: 381/399: 100%|█████████████████████████████████████████████████| 80/80 [00:00<00:00, 5514.20it/s, loss=0.001221]\n"
     ]
    },
    {
     "name": "stdout",
     "output_type": "stream",
     "text": [
      "eval psnr: 29.58\n"
     ]
    },
    {
     "name": "stderr",
     "output_type": "stream",
     "text": [
      "epoch: 382/399: 100%|█████████████████████████████████████████████████| 80/80 [00:00<00:00, 5662.14it/s, loss=0.001221]\n"
     ]
    },
    {
     "name": "stdout",
     "output_type": "stream",
     "text": [
      "eval psnr: 29.58\n"
     ]
    },
    {
     "name": "stderr",
     "output_type": "stream",
     "text": [
      "epoch: 383/399: 100%|█████████████████████████████████████████████████| 80/80 [00:00<00:00, 5392.26it/s, loss=0.001221]\n"
     ]
    },
    {
     "name": "stdout",
     "output_type": "stream",
     "text": [
      "eval psnr: 29.58\n"
     ]
    },
    {
     "name": "stderr",
     "output_type": "stream",
     "text": [
      "epoch: 384/399: 100%|█████████████████████████████████████████████████| 80/80 [00:00<00:00, 5638.36it/s, loss=0.001221]\n"
     ]
    },
    {
     "name": "stdout",
     "output_type": "stream",
     "text": [
      "eval psnr: 29.59\n"
     ]
    },
    {
     "name": "stderr",
     "output_type": "stream",
     "text": [
      "epoch: 385/399: 100%|█████████████████████████████████████████████████| 80/80 [00:00<00:00, 5517.82it/s, loss=0.001220]\n"
     ]
    },
    {
     "name": "stdout",
     "output_type": "stream",
     "text": [
      "eval psnr: 29.59\n"
     ]
    },
    {
     "name": "stderr",
     "output_type": "stream",
     "text": [
      "epoch: 386/399: 100%|█████████████████████████████████████████████████| 80/80 [00:00<00:00, 5055.51it/s, loss=0.001220]\n"
     ]
    },
    {
     "name": "stdout",
     "output_type": "stream",
     "text": [
      "eval psnr: 29.59\n"
     ]
    },
    {
     "name": "stderr",
     "output_type": "stream",
     "text": [
      "epoch: 387/399: 100%|█████████████████████████████████████████████████| 80/80 [00:00<00:00, 5394.69it/s, loss=0.001220]\n"
     ]
    },
    {
     "name": "stdout",
     "output_type": "stream",
     "text": [
      "eval psnr: 29.59\n"
     ]
    },
    {
     "name": "stderr",
     "output_type": "stream",
     "text": [
      "epoch: 388/399: 100%|█████████████████████████████████████████████████| 80/80 [00:00<00:00, 5710.13it/s, loss=0.001220]\n"
     ]
    },
    {
     "name": "stdout",
     "output_type": "stream",
     "text": [
      "eval psnr: 29.59\n"
     ]
    },
    {
     "name": "stderr",
     "output_type": "stream",
     "text": [
      "epoch: 389/399: 100%|█████████████████████████████████████████████████| 80/80 [00:00<00:00, 5570.77it/s, loss=0.001219]\n"
     ]
    },
    {
     "name": "stdout",
     "output_type": "stream",
     "text": [
      "eval psnr: 29.59\n"
     ]
    },
    {
     "name": "stderr",
     "output_type": "stream",
     "text": [
      "epoch: 390/399: 100%|█████████████████████████████████████████████████| 80/80 [00:00<00:00, 5514.29it/s, loss=0.001219]\n"
     ]
    },
    {
     "name": "stdout",
     "output_type": "stream",
     "text": [
      "eval psnr: 29.60\n"
     ]
    },
    {
     "name": "stderr",
     "output_type": "stream",
     "text": [
      "epoch: 391/399: 100%|█████████████████████████████████████████████████| 80/80 [00:00<00:00, 5529.01it/s, loss=0.001218]\n"
     ]
    },
    {
     "name": "stdout",
     "output_type": "stream",
     "text": [
      "eval psnr: 29.60\n"
     ]
    },
    {
     "name": "stderr",
     "output_type": "stream",
     "text": [
      "epoch: 392/399: 100%|█████████████████████████████████████████████████| 80/80 [00:00<00:00, 5504.70it/s, loss=0.001218]\n"
     ]
    },
    {
     "name": "stdout",
     "output_type": "stream",
     "text": [
      "eval psnr: 29.60\n"
     ]
    },
    {
     "name": "stderr",
     "output_type": "stream",
     "text": [
      "epoch: 393/399: 100%|█████████████████████████████████████████████████| 80/80 [00:00<00:00, 5788.44it/s, loss=0.001218]\n"
     ]
    },
    {
     "name": "stdout",
     "output_type": "stream",
     "text": [
      "eval psnr: 29.59\n"
     ]
    },
    {
     "name": "stderr",
     "output_type": "stream",
     "text": [
      "epoch: 394/399: 100%|█████████████████████████████████████████████████| 80/80 [00:00<00:00, 5515.10it/s, loss=0.001218]\n"
     ]
    },
    {
     "name": "stdout",
     "output_type": "stream",
     "text": [
      "eval psnr: 29.59\n"
     ]
    },
    {
     "name": "stderr",
     "output_type": "stream",
     "text": [
      "epoch: 395/399: 100%|█████████████████████████████████████████████████| 80/80 [00:00<00:00, 5418.91it/s, loss=0.001218]\n"
     ]
    },
    {
     "name": "stdout",
     "output_type": "stream",
     "text": [
      "eval psnr: 29.60\n"
     ]
    },
    {
     "name": "stderr",
     "output_type": "stream",
     "text": [
      "epoch: 396/399: 100%|█████████████████████████████████████████████████| 80/80 [00:00<00:00, 5603.71it/s, loss=0.001217]\n"
     ]
    },
    {
     "name": "stdout",
     "output_type": "stream",
     "text": [
      "eval psnr: 29.60\n"
     ]
    },
    {
     "name": "stderr",
     "output_type": "stream",
     "text": [
      "epoch: 397/399: 100%|█████████████████████████████████████████████████| 80/80 [00:00<00:00, 5733.25it/s, loss=0.001217]\n"
     ]
    },
    {
     "name": "stdout",
     "output_type": "stream",
     "text": [
      "eval psnr: 29.60\n"
     ]
    },
    {
     "name": "stderr",
     "output_type": "stream",
     "text": [
      "epoch: 398/399: 100%|█████████████████████████████████████████████████| 80/80 [00:00<00:00, 5736.29it/s, loss=0.001218]\n"
     ]
    },
    {
     "name": "stdout",
     "output_type": "stream",
     "text": [
      "eval psnr: 29.59\n"
     ]
    },
    {
     "name": "stderr",
     "output_type": "stream",
     "text": [
      "epoch: 399/399: 100%|█████████████████████████████████████████████████| 80/80 [00:00<00:00, 5376.62it/s, loss=0.001219]\n"
     ]
    },
    {
     "name": "stdout",
     "output_type": "stream",
     "text": [
      "eval psnr: 29.60\n",
      "best epoch: 397, psnr: 29.60\n"
     ]
    }
   ],
   "source": [
    "device = torch.device(\"cuda\" if torch.cuda.is_available() else \"cpu\")\n",
    "\n",
    "def convert_rgb_to_y(img):\n",
    "    if type(img) == np.ndarray:\n",
    "        return 16. + (64.738 * img[:, :, 0] + 129.057 * img[:, :, 1] + 25.064 * img[:, :, 2]) / 256.\n",
    "    elif type(img) == torch.Tensor:\n",
    "        if len(img.shape) == 4:\n",
    "            img = img.squeeze(0)\n",
    "        return 16. + (64.738 * img[0, :, :] + 129.057 * img[1, :, :] + 25.064 * img[2, :, :]) / 256.\n",
    "    else:\n",
    "        raise Exception('Unknown Type', type(img))\n",
    "\n",
    "\n",
    "def convert_rgb_to_ycbcr(img):\n",
    "    if type(img) == np.ndarray:\n",
    "        y = 16. + (64.738 * img[:, :, 0] + 129.057 * img[:, :, 1] + 25.064 * img[:, :, 2]) / 256.\n",
    "        cb = 128. + (-37.945 * img[:, :, 0] - 74.494 * img[:, :, 1] + 112.439 * img[:, :, 2]) / 256.\n",
    "        cr = 128. + (112.439 * img[:, :, 0] - 94.154 * img[:, :, 1] - 18.285 * img[:, :, 2]) / 256.\n",
    "        return np.array([y, cb, cr]).transpose([1, 2, 0])\n",
    "    elif type(img) == torch.Tensor:\n",
    "        if len(img.shape) == 4:\n",
    "            img = img.squeeze(0)\n",
    "        y = 16. + (64.738 * img[0, :, :] + 129.057 * img[1, :, :] + 25.064 * img[2, :, :]) / 256.\n",
    "        cb = 128. + (-37.945 * img[0, :, :] - 74.494 * img[1, :, :] + 112.439 * img[2, :, :]) / 256.\n",
    "        cr = 128. + (112.439 * img[0, :, :] - 94.154 * img[1, :, :] - 18.285 * img[2, :, :]) / 256.\n",
    "        return torch.cat([y, cb, cr], 0).permute(1, 2, 0)\n",
    "    else:\n",
    "        raise Exception('Unknown Type', type(img))\n",
    "\n",
    "\n",
    "def convert_ycbcr_to_rgb(img):\n",
    "    if type(img) == np.ndarray:\n",
    "        r = 298.082 * img[:, :, 0] / 256. + 408.583 * img[:, :, 2] / 256. - 222.921\n",
    "        g = 298.082 * img[:, :, 0] / 256. - 100.291 * img[:, :, 1] / 256. - 208.120 * img[:, :, 2] / 256. + 135.576\n",
    "        b = 298.082 * img[:, :, 0] / 256. + 516.412 * img[:, :, 1] / 256. - 276.836\n",
    "        return np.array([r, g, b]).transpose([1, 2, 0])\n",
    "    elif type(img) == torch.Tensor:\n",
    "        if len(img.shape) == 4:\n",
    "            img = img.squeeze(0)\n",
    "        r = 298.082 * img[0, :, :] / 256. + 408.583 * img[2, :, :] / 256. - 222.921\n",
    "        g = 298.082 * img[0, :, :] / 256. - 100.291 * img[1, :, :] / 256. - 208.120 * img[2, :, :] / 256. + 135.576\n",
    "        b = 298.082 * img[0, :, :] / 256. + 516.412 * img[1, :, :] / 256. - 276.836\n",
    "        return torch.cat([r, g, b], 0).permute(1, 2, 0)\n",
    "    else:\n",
    "        raise Exception('Unknown Type', type(img))\n",
    "\n",
    "\n",
    "def calc_psnr(img1, img2):\n",
    "    return 10. * torch.log10(1. / torch.mean((img1 - img2) ** 2))\n",
    "\n",
    "\n",
    "class AverageMeter(object):\n",
    "    def __init__(self):\n",
    "        self.reset()\n",
    "\n",
    "    def reset(self):\n",
    "        self.val = 0\n",
    "        self.avg = 0\n",
    "        self.sum = 0\n",
    "        self.count = 0\n",
    "\n",
    "    def update(self, val, n=1):\n",
    "        self.val = val\n",
    "        self.sum += val * n\n",
    "        self.count += n\n",
    "        self.avg = self.sum / self.count\n",
    "\n",
    "\n",
    "model = SRCNN(num_channels=3).to(device)\n",
    "criterion = nn.MSELoss()\n",
    "optimizer = optim.Adam([\n",
    "    {'params': model.conv1.parameters()},\n",
    "    {'params': model.conv2.parameters()},\n",
    "    {'params': model.conv3.parameters(), 'lr': LR}\n",
    "], lr=LR)\n",
    "\n",
    "best_weights = copy.deepcopy(model.state_dict())\n",
    "best_epoch = 0\n",
    "best_psnr = 0.0\n",
    "\n",
    "for epoch in range(NUM_EPOCHS):\n",
    "    model.train()\n",
    "    epoch_losses = AverageMeter()\n",
    "\n",
    "    with tqdm(total=(len(train_dataset) - len(train_dataset) % BATCH_SIZE)) as t:\n",
    "        t.set_description('epoch: {}/{}'.format(epoch, NUM_EPOCHS - 1))\n",
    "\n",
    "        for data in train_loader:\n",
    "            inputs, labels = data\n",
    "\n",
    "            inputs = inputs.to(device)\n",
    "            labels = labels.to(device)\n",
    "\n",
    "            preds = model(inputs)\n",
    "\n",
    "            loss = criterion(preds, labels)\n",
    "\n",
    "            epoch_losses.update(loss.item(), len(inputs))\n",
    "\n",
    "            optimizer.zero_grad()\n",
    "            loss.backward()\n",
    "            optimizer.step()\n",
    "\n",
    "            t.set_postfix(loss='{:.6f}'.format(epoch_losses.avg))\n",
    "            t.update(len(inputs))\n",
    "\n",
    "    model.eval()\n",
    "    epoch_psnr = AverageMeter()\n",
    "\n",
    "    for data in val_loader:\n",
    "        inputs, labels = data\n",
    "\n",
    "        inputs = inputs.to(device)\n",
    "        labels = labels.to(device)\n",
    "\n",
    "        with torch.no_grad():\n",
    "            preds = model(inputs).clamp(0.0, 1.0)\n",
    "\n",
    "        epoch_psnr.update(calc_psnr(preds, labels), len(inputs))\n",
    "\n",
    "    print('eval psnr: {:.2f}'.format(epoch_psnr.avg))\n",
    "\n",
    "    if epoch_psnr.avg > best_psnr:\n",
    "        best_epoch = epoch\n",
    "        best_psnr = epoch_psnr.avg\n",
    "        best_weights = copy.deepcopy(model.state_dict())\n",
    "\n",
    "print('best epoch: {}, psnr: {:.2f}'.format(best_epoch, best_psnr))\n",
    "torch.save(best_weights, os.path.join(\"./\", 'best.pth'))"
   ]
  },
  {
   "cell_type": "code",
   "execution_count": 11,
   "id": "bdddbe6c-366d-41f9-8040-3a70e7b975e6",
   "metadata": {},
   "outputs": [
    {
     "data": {
      "image/png": "[encoded data removed]",
      "text/plain": [
       "<Figure size 1300x400 with 3 Axes>"
      ]
     },
     "metadata": {},
     "output_type": "display_data"
    },
    {
     "data": {
      "image/png": "[encoded data removed]",
      "text/plain": [
       "<Figure size 1300x400 with 3 Axes>"
      ]
     },
     "metadata": {},
     "output_type": "display_data"
    },
    {
     "data": {
      "image/png": "[encoded data removed]",
      "text/plain": [
       "<Figure size 1300x400 with 3 Axes>"
      ]
     },
     "metadata": {},
     "output_type": "display_data"
    },
    {
     "data": {
      "image/png": "[encoded data removed]",
      "text/plain": [
       "<Figure size 1300x400 with 3 Axes>"
      ]
     },
     "metadata": {},
     "output_type": "display_data"
    }
   ],
   "source": [
    "def to_hwc_np(t: torch.Tensor):\n",
    "    \"\"\"[C,H,W] float in [0,1] -> HxW(c) numpy for imshow.\"\"\"\n",
    "    t = t.detach().cpu().clamp(0,1)\n",
    "    if t.ndim == 3 and t.shape[0] == 3:\n",
    "        return np.transpose(t.numpy(), (1, 2, 0))\n",
    "    return t.squeeze(0).numpy()\n",
    "\n",
    "def psnr(a: torch.Tensor, b: torch.Tensor, eps=1e-10):\n",
    "    # a,b: [C,H,W] in [0,1]\n",
    "    mse = torch.mean((a - b) ** 2).item()\n",
    "    return 20 * np.log10(1.0 / math.sqrt(mse + eps))\n",
    "\n",
    "def rgb_to_y(t: torch.Tensor) -> torch.Tensor:\n",
    "    \"\"\"[C,H,W] RGB in [0,1] -> [1,H,W] Y (BT.601).\"\"\"\n",
    "    if t.shape[0] == 1:\n",
    "        return t\n",
    "    r, g, b = t[0], t[1], t[2]\n",
    "    y = 0.299 * r + 0.587 * g + 0.114 * b\n",
    "    return y.unsqueeze(0)\n",
    "\n",
    "def rgb_to_ycbcr(t: torch.Tensor):\n",
    "    \"\"\"[C,H,W] RGB in [0,1] -> (Y,Cb,Cr) each [1,H,W], BT.601 with 0.5 offset for Cb/Cr.\"\"\"\n",
    "    r, g, b = t[0], t[1], t[2]\n",
    "    Y  = 0.299  * r + 0.587  * g + 0.114  * b\n",
    "    Cb = -0.168736 * r - 0.331264 * g + 0.5      * b + 0.5\n",
    "    Cr =  0.5      * r - 0.418688 * g - 0.081312 * b + 0.5\n",
    "    return Y.unsqueeze(0), Cb.unsqueeze(0), Cr.unsqueeze(0)\n",
    "\n",
    "def ycbcr_to_rgb(Y: torch.Tensor, Cb: torch.Tensor, Cr: torch.Tensor):\n",
    "    \"\"\"Y,Cb,Cr in [0,1] (Cb/Cr centered at 0.5) -> [3,H,W] RGB in [0,1].\"\"\"\n",
    "    r = Y + 1.402   * (Cr - 0.5)\n",
    "    g = Y - 0.344136 * (Cb - 0.5) - 0.714136 * (Cr - 0.5)\n",
    "    b = Y + 1.772   * (Cb - 0.5)\n",
    "    out = torch.stack([r, g, b], dim=0).clamp(0, 1)\n",
    "    return out\n",
    "\n",
    "model.eval()\n",
    "\n",
    "# ---------- Pick random samples from the validation set ----------\n",
    "NUM_SAMPLES = 4\n",
    "rand_idxs = random.sample(range(len(train_dataset)), k=min(NUM_SAMPLES, len(train_dataset)))\n",
    "\n",
    "for i, idx in enumerate(rand_idxs, 1):\n",
    "    lr, hr = train_dataset[idx]   # [C,H,W] in [0,1]; LR is bicubic-upsampled to HR size\n",
    "\n",
    "    # Match model channels\n",
    "    if model.conv1.in_channels == 1:\n",
    "        # Y-channel model\n",
    "        if lr.shape[0] == 3:\n",
    "            # Keep chroma from LR for colorizing the SR output\n",
    "            Y_lr, Cb_lr, Cr_lr = rgb_to_ycbcr(lr)\n",
    "            Y_hr = rgb_to_y(hr)\n",
    "            lr_in = Y_lr.to(device)                     # [1,H,W]\n",
    "            with torch.no_grad():\n",
    "                sr_y = model(lr_in.unsqueeze(0)).squeeze(0).cpu().clamp(0,1)  # [1,H,W]\n",
    "            # Recolor SR using LR chroma for display\n",
    "            sr_rgb = ycbcr_to_rgb(sr_y, Cb_lr, Cr_lr)\n",
    "            # For fair PSNR, compute on Y\n",
    "            psnr_bic = psnr(Y_lr, Y_hr)\n",
    "            psnr_sr  = psnr(sr_y, Y_hr)\n",
    "\n",
    "            # What to show:\n",
    "            img_lr = lr                    # color bicubic input (for context)\n",
    "            img_sr = sr_rgb                # colorized SR\n",
    "            img_hr = hr                    # GT color\n",
    "\n",
    "            title_mid = f\"SRCNN (Y only)  PSNR(Y)={psnr_sr:.2f} dB\"\n",
    "            title_left = f\"LR Bicubic  PSNR(Y)={psnr_bic:.2f} dB\"\n",
    "        else:\n",
    "            # Dataset already single-channel\n",
    "            lr_in = lr.to(device)\n",
    "            with torch.no_grad():\n",
    "                sr = model(lr_in.unsqueeze(0)).squeeze(0).cpu().clamp(0,1)\n",
    "            psnr_bic = psnr(lr, hr)\n",
    "            psnr_sr  = psnr(sr, hr)\n",
    "            img_lr, img_sr, img_hr = lr, sr, hr\n",
    "            title_mid = f\"SRCNN  PSNR={psnr_sr:.2f} dB\"\n",
    "            title_left = f\"LR Bicubic  PSNR={psnr_bic:.2f} dB\"\n",
    "    else:\n",
    "        # RGB model\n",
    "        lr_in = lr.to(device)\n",
    "        with torch.no_grad():\n",
    "            sr = model(lr_in.unsqueeze(0)).squeeze(0).cpu().clamp(0,1)\n",
    "        # PSNR on Y for fair comparison (common in SR)\n",
    "        psnr_bic = psnr(rgb_to_y(lr), rgb_to_y(hr))\n",
    "        psnr_sr  = psnr(rgb_to_y(sr), rgb_to_y(hr))\n",
    "        img_lr, img_sr, img_hr = lr, sr, hr\n",
    "        title_mid = f\"SRCNN (RGB)  PSNR(Y)={psnr_sr:.2f} dB\"\n",
    "        title_left = f\"LR Bicubic  PSNR(Y)={psnr_bic:.2f} dB\"\n",
    "\n",
    "    # ---------- Plot ----------\n",
    "    fig, axes = plt.subplots(1, 3, figsize=(13, 4))\n",
    "    axes[0].imshow(to_hwc_np(img_lr))\n",
    "    axes[0].set_title(title_left)\n",
    "    axes[0].axis(\"off\")\n",
    "\n",
    "    axes[1].imshow(to_hwc_np(img_sr))\n",
    "    axes[1].set_title(title_mid)\n",
    "    axes[1].axis(\"off\")\n",
    "\n",
    "    axes[2].imshow(to_hwc_np(img_hr))\n",
    "    axes[2].set_title(\"HR Ground Truth\")\n",
    "    axes[2].axis(\"off\")\n",
    "\n",
    "    plt.tight_layout()\n",
    "    plt.show()"
   ]
  },
  {
   "cell_type": "code",
   "execution_count": null,
   "id": "62ece342-a3e4-47e8-9cb1-4dbbdefada32",
   "metadata": {},
   "outputs": [],
   "source": []
  }
 ],
 "metadata": {
  "kernelspec": {
   "display_name": "Python 3 (ipykernel)",
   "language": "python",
   "name": "python3"
  },
  "language_info": {
   "codemirror_mode": {
    "name": "ipython",
    "version": 3
   },
   "file_extension": ".py",
   "mimetype": "text/x-python",
   "name": "python",
   "nbconvert_exporter": "python",
   "pygments_lexer": "ipython3",
   "version": "3.13.2"
  }
 },
 "nbformat": 4,
 "nbformat_minor": 5
}
